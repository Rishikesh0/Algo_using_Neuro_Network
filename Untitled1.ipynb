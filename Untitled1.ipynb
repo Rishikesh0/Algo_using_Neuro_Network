{
 "cells": [
  {
   "cell_type": "markdown",
   "id": "ec25653b",
   "metadata": {},
   "source": [
    "# Stock Preduction Using Neuro Network"
   ]
  },
  {
   "cell_type": "code",
   "execution_count": 73,
   "id": "a4fe1f2a",
   "metadata": {},
   "outputs": [],
   "source": [
    "import pandas as pd"
   ]
  },
  {
   "cell_type": "code",
   "execution_count": 74,
   "id": "7492bfd9",
   "metadata": {},
   "outputs": [],
   "source": [
    "import yfinance as yf"
   ]
  },
  {
   "cell_type": "markdown",
   "id": "157adb1f",
   "metadata": {},
   "source": [
    "## Enter the Stock Symbol Name for Stock "
   ]
  },
  {
   "cell_type": "code",
   "execution_count": 75,
   "id": "7e067051",
   "metadata": {},
   "outputs": [
    {
     "name": "stdout",
     "output_type": "stream",
     "text": [
      "Enter the Symbol :-RELIANCE\n"
     ]
    }
   ],
   "source": [
    "symbol = input(\"Enter the Symbol :-\")"
   ]
  },
  {
   "cell_type": "code",
   "execution_count": 76,
   "id": "ff9aacaa",
   "metadata": {},
   "outputs": [],
   "source": [
    "symbol_yf = symbol+'.NS'"
   ]
  },
  {
   "cell_type": "code",
   "execution_count": 77,
   "id": "3ebbf280",
   "metadata": {},
   "outputs": [],
   "source": [
    "msft = yf.Ticker(symbol_yf)"
   ]
  },
  {
   "cell_type": "code",
   "execution_count": 78,
   "id": "a8eb703b",
   "metadata": {},
   "outputs": [],
   "source": [
    "hist = msft.history(period=\"max\")"
   ]
  },
  {
   "cell_type": "markdown",
   "id": "64d96f8c",
   "metadata": {},
   "source": [
    "## Max Data of Stock"
   ]
  },
  {
   "cell_type": "code",
   "execution_count": 79,
   "id": "14ff421a",
   "metadata": {},
   "outputs": [
    {
     "data": {
      "text/html": [
       "<div>\n",
       "<style scoped>\n",
       "    .dataframe tbody tr th:only-of-type {\n",
       "        vertical-align: middle;\n",
       "    }\n",
       "\n",
       "    .dataframe tbody tr th {\n",
       "        vertical-align: top;\n",
       "    }\n",
       "\n",
       "    .dataframe thead th {\n",
       "        text-align: right;\n",
       "    }\n",
       "</style>\n",
       "<table border=\"1\" class=\"dataframe\">\n",
       "  <thead>\n",
       "    <tr style=\"text-align: right;\">\n",
       "      <th></th>\n",
       "      <th>Open</th>\n",
       "      <th>High</th>\n",
       "      <th>Low</th>\n",
       "      <th>Close</th>\n",
       "      <th>Volume</th>\n",
       "      <th>Dividends</th>\n",
       "      <th>Stock Splits</th>\n",
       "    </tr>\n",
       "    <tr>\n",
       "      <th>Date</th>\n",
       "      <th></th>\n",
       "      <th></th>\n",
       "      <th></th>\n",
       "      <th></th>\n",
       "      <th></th>\n",
       "      <th></th>\n",
       "      <th></th>\n",
       "    </tr>\n",
       "  </thead>\n",
       "  <tbody>\n",
       "    <tr>\n",
       "      <th>1996-01-01 00:00:00+05:30</th>\n",
       "      <td>10.439797</td>\n",
       "      <td>10.495815</td>\n",
       "      <td>10.371046</td>\n",
       "      <td>10.477991</td>\n",
       "      <td>48051995</td>\n",
       "      <td>0.0</td>\n",
       "      <td>0.0</td>\n",
       "    </tr>\n",
       "    <tr>\n",
       "      <th>1996-01-02 00:00:00+05:30</th>\n",
       "      <td>10.452528</td>\n",
       "      <td>10.503454</td>\n",
       "      <td>10.320121</td>\n",
       "      <td>10.396510</td>\n",
       "      <td>77875009</td>\n",
       "      <td>0.0</td>\n",
       "      <td>0.0</td>\n",
       "    </tr>\n",
       "    <tr>\n",
       "      <th>1996-01-03 00:00:00+05:30</th>\n",
       "      <td>10.567110</td>\n",
       "      <td>11.048360</td>\n",
       "      <td>10.452527</td>\n",
       "      <td>10.475444</td>\n",
       "      <td>96602936</td>\n",
       "      <td>0.0</td>\n",
       "      <td>0.0</td>\n",
       "    </tr>\n",
       "    <tr>\n",
       "      <th>1996-01-04 00:00:00+05:30</th>\n",
       "      <td>10.376141</td>\n",
       "      <td>10.409243</td>\n",
       "      <td>10.238641</td>\n",
       "      <td>10.378687</td>\n",
       "      <td>100099436</td>\n",
       "      <td>0.0</td>\n",
       "      <td>0.0</td>\n",
       "    </tr>\n",
       "    <tr>\n",
       "      <th>1996-01-05 00:00:00+05:30</th>\n",
       "      <td>10.337945</td>\n",
       "      <td>10.337945</td>\n",
       "      <td>10.218269</td>\n",
       "      <td>10.307389</td>\n",
       "      <td>76935930</td>\n",
       "      <td>0.0</td>\n",
       "      <td>0.0</td>\n",
       "    </tr>\n",
       "    <tr>\n",
       "      <th>...</th>\n",
       "      <td>...</td>\n",
       "      <td>...</td>\n",
       "      <td>...</td>\n",
       "      <td>...</td>\n",
       "      <td>...</td>\n",
       "      <td>...</td>\n",
       "      <td>...</td>\n",
       "    </tr>\n",
       "    <tr>\n",
       "      <th>2022-10-13 00:00:00+05:30</th>\n",
       "      <td>2371.399902</td>\n",
       "      <td>2394.000000</td>\n",
       "      <td>2360.100098</td>\n",
       "      <td>2382.800049</td>\n",
       "      <td>3382098</td>\n",
       "      <td>0.0</td>\n",
       "      <td>0.0</td>\n",
       "    </tr>\n",
       "    <tr>\n",
       "      <th>2022-10-14 00:00:00+05:30</th>\n",
       "      <td>2415.000000</td>\n",
       "      <td>2416.350098</td>\n",
       "      <td>2369.100098</td>\n",
       "      <td>2370.699951</td>\n",
       "      <td>4202459</td>\n",
       "      <td>0.0</td>\n",
       "      <td>0.0</td>\n",
       "    </tr>\n",
       "    <tr>\n",
       "      <th>2022-10-17 00:00:00+05:30</th>\n",
       "      <td>2355.000000</td>\n",
       "      <td>2414.000000</td>\n",
       "      <td>2343.600098</td>\n",
       "      <td>2408.750000</td>\n",
       "      <td>7720595</td>\n",
       "      <td>0.0</td>\n",
       "      <td>0.0</td>\n",
       "    </tr>\n",
       "    <tr>\n",
       "      <th>2022-10-18 00:00:00+05:30</th>\n",
       "      <td>2422.000000</td>\n",
       "      <td>2463.000000</td>\n",
       "      <td>2420.149902</td>\n",
       "      <td>2451.250000</td>\n",
       "      <td>5729899</td>\n",
       "      <td>0.0</td>\n",
       "      <td>0.0</td>\n",
       "    </tr>\n",
       "    <tr>\n",
       "      <th>2022-10-19 00:00:00+05:30</th>\n",
       "      <td>2454.500000</td>\n",
       "      <td>2527.850098</td>\n",
       "      <td>2441.699951</td>\n",
       "      <td>2493.899902</td>\n",
       "      <td>8882553</td>\n",
       "      <td>0.0</td>\n",
       "      <td>0.0</td>\n",
       "    </tr>\n",
       "  </tbody>\n",
       "</table>\n",
       "<p>6740 rows × 7 columns</p>\n",
       "</div>"
      ],
      "text/plain": [
       "                                  Open         High          Low        Close  \\\n",
       "Date                                                                            \n",
       "1996-01-01 00:00:00+05:30    10.439797    10.495815    10.371046    10.477991   \n",
       "1996-01-02 00:00:00+05:30    10.452528    10.503454    10.320121    10.396510   \n",
       "1996-01-03 00:00:00+05:30    10.567110    11.048360    10.452527    10.475444   \n",
       "1996-01-04 00:00:00+05:30    10.376141    10.409243    10.238641    10.378687   \n",
       "1996-01-05 00:00:00+05:30    10.337945    10.337945    10.218269    10.307389   \n",
       "...                                ...          ...          ...          ...   \n",
       "2022-10-13 00:00:00+05:30  2371.399902  2394.000000  2360.100098  2382.800049   \n",
       "2022-10-14 00:00:00+05:30  2415.000000  2416.350098  2369.100098  2370.699951   \n",
       "2022-10-17 00:00:00+05:30  2355.000000  2414.000000  2343.600098  2408.750000   \n",
       "2022-10-18 00:00:00+05:30  2422.000000  2463.000000  2420.149902  2451.250000   \n",
       "2022-10-19 00:00:00+05:30  2454.500000  2527.850098  2441.699951  2493.899902   \n",
       "\n",
       "                              Volume  Dividends  Stock Splits  \n",
       "Date                                                           \n",
       "1996-01-01 00:00:00+05:30   48051995        0.0           0.0  \n",
       "1996-01-02 00:00:00+05:30   77875009        0.0           0.0  \n",
       "1996-01-03 00:00:00+05:30   96602936        0.0           0.0  \n",
       "1996-01-04 00:00:00+05:30  100099436        0.0           0.0  \n",
       "1996-01-05 00:00:00+05:30   76935930        0.0           0.0  \n",
       "...                              ...        ...           ...  \n",
       "2022-10-13 00:00:00+05:30    3382098        0.0           0.0  \n",
       "2022-10-14 00:00:00+05:30    4202459        0.0           0.0  \n",
       "2022-10-17 00:00:00+05:30    7720595        0.0           0.0  \n",
       "2022-10-18 00:00:00+05:30    5729899        0.0           0.0  \n",
       "2022-10-19 00:00:00+05:30    8882553        0.0           0.0  \n",
       "\n",
       "[6740 rows x 7 columns]"
      ]
     },
     "execution_count": 79,
     "metadata": {},
     "output_type": "execute_result"
    }
   ],
   "source": [
    "hist"
   ]
  },
  {
   "cell_type": "code",
   "execution_count": 80,
   "id": "2e404401",
   "metadata": {},
   "outputs": [],
   "source": [
    "df = hist.reset_index()"
   ]
  },
  {
   "cell_type": "code",
   "execution_count": 81,
   "id": "f9b11faa",
   "metadata": {},
   "outputs": [
    {
     "data": {
      "text/html": [
       "<div>\n",
       "<style scoped>\n",
       "    .dataframe tbody tr th:only-of-type {\n",
       "        vertical-align: middle;\n",
       "    }\n",
       "\n",
       "    .dataframe tbody tr th {\n",
       "        vertical-align: top;\n",
       "    }\n",
       "\n",
       "    .dataframe thead th {\n",
       "        text-align: right;\n",
       "    }\n",
       "</style>\n",
       "<table border=\"1\" class=\"dataframe\">\n",
       "  <thead>\n",
       "    <tr style=\"text-align: right;\">\n",
       "      <th></th>\n",
       "      <th>Date</th>\n",
       "      <th>Open</th>\n",
       "      <th>High</th>\n",
       "      <th>Low</th>\n",
       "      <th>Close</th>\n",
       "      <th>Volume</th>\n",
       "      <th>Dividends</th>\n",
       "      <th>Stock Splits</th>\n",
       "    </tr>\n",
       "  </thead>\n",
       "  <tbody>\n",
       "    <tr>\n",
       "      <th>0</th>\n",
       "      <td>1996-01-01 00:00:00+05:30</td>\n",
       "      <td>10.439797</td>\n",
       "      <td>10.495815</td>\n",
       "      <td>10.371046</td>\n",
       "      <td>10.477991</td>\n",
       "      <td>48051995</td>\n",
       "      <td>0.0</td>\n",
       "      <td>0.0</td>\n",
       "    </tr>\n",
       "    <tr>\n",
       "      <th>1</th>\n",
       "      <td>1996-01-02 00:00:00+05:30</td>\n",
       "      <td>10.452528</td>\n",
       "      <td>10.503454</td>\n",
       "      <td>10.320121</td>\n",
       "      <td>10.396510</td>\n",
       "      <td>77875009</td>\n",
       "      <td>0.0</td>\n",
       "      <td>0.0</td>\n",
       "    </tr>\n",
       "    <tr>\n",
       "      <th>2</th>\n",
       "      <td>1996-01-03 00:00:00+05:30</td>\n",
       "      <td>10.567110</td>\n",
       "      <td>11.048360</td>\n",
       "      <td>10.452527</td>\n",
       "      <td>10.475444</td>\n",
       "      <td>96602936</td>\n",
       "      <td>0.0</td>\n",
       "      <td>0.0</td>\n",
       "    </tr>\n",
       "    <tr>\n",
       "      <th>3</th>\n",
       "      <td>1996-01-04 00:00:00+05:30</td>\n",
       "      <td>10.376141</td>\n",
       "      <td>10.409243</td>\n",
       "      <td>10.238641</td>\n",
       "      <td>10.378687</td>\n",
       "      <td>100099436</td>\n",
       "      <td>0.0</td>\n",
       "      <td>0.0</td>\n",
       "    </tr>\n",
       "    <tr>\n",
       "      <th>4</th>\n",
       "      <td>1996-01-05 00:00:00+05:30</td>\n",
       "      <td>10.337945</td>\n",
       "      <td>10.337945</td>\n",
       "      <td>10.218269</td>\n",
       "      <td>10.307389</td>\n",
       "      <td>76935930</td>\n",
       "      <td>0.0</td>\n",
       "      <td>0.0</td>\n",
       "    </tr>\n",
       "    <tr>\n",
       "      <th>...</th>\n",
       "      <td>...</td>\n",
       "      <td>...</td>\n",
       "      <td>...</td>\n",
       "      <td>...</td>\n",
       "      <td>...</td>\n",
       "      <td>...</td>\n",
       "      <td>...</td>\n",
       "      <td>...</td>\n",
       "    </tr>\n",
       "    <tr>\n",
       "      <th>6735</th>\n",
       "      <td>2022-10-13 00:00:00+05:30</td>\n",
       "      <td>2371.399902</td>\n",
       "      <td>2394.000000</td>\n",
       "      <td>2360.100098</td>\n",
       "      <td>2382.800049</td>\n",
       "      <td>3382098</td>\n",
       "      <td>0.0</td>\n",
       "      <td>0.0</td>\n",
       "    </tr>\n",
       "    <tr>\n",
       "      <th>6736</th>\n",
       "      <td>2022-10-14 00:00:00+05:30</td>\n",
       "      <td>2415.000000</td>\n",
       "      <td>2416.350098</td>\n",
       "      <td>2369.100098</td>\n",
       "      <td>2370.699951</td>\n",
       "      <td>4202459</td>\n",
       "      <td>0.0</td>\n",
       "      <td>0.0</td>\n",
       "    </tr>\n",
       "    <tr>\n",
       "      <th>6737</th>\n",
       "      <td>2022-10-17 00:00:00+05:30</td>\n",
       "      <td>2355.000000</td>\n",
       "      <td>2414.000000</td>\n",
       "      <td>2343.600098</td>\n",
       "      <td>2408.750000</td>\n",
       "      <td>7720595</td>\n",
       "      <td>0.0</td>\n",
       "      <td>0.0</td>\n",
       "    </tr>\n",
       "    <tr>\n",
       "      <th>6738</th>\n",
       "      <td>2022-10-18 00:00:00+05:30</td>\n",
       "      <td>2422.000000</td>\n",
       "      <td>2463.000000</td>\n",
       "      <td>2420.149902</td>\n",
       "      <td>2451.250000</td>\n",
       "      <td>5729899</td>\n",
       "      <td>0.0</td>\n",
       "      <td>0.0</td>\n",
       "    </tr>\n",
       "    <tr>\n",
       "      <th>6739</th>\n",
       "      <td>2022-10-19 00:00:00+05:30</td>\n",
       "      <td>2454.500000</td>\n",
       "      <td>2527.850098</td>\n",
       "      <td>2441.699951</td>\n",
       "      <td>2493.899902</td>\n",
       "      <td>8882553</td>\n",
       "      <td>0.0</td>\n",
       "      <td>0.0</td>\n",
       "    </tr>\n",
       "  </tbody>\n",
       "</table>\n",
       "<p>6740 rows × 8 columns</p>\n",
       "</div>"
      ],
      "text/plain": [
       "                          Date         Open         High          Low  \\\n",
       "0    1996-01-01 00:00:00+05:30    10.439797    10.495815    10.371046   \n",
       "1    1996-01-02 00:00:00+05:30    10.452528    10.503454    10.320121   \n",
       "2    1996-01-03 00:00:00+05:30    10.567110    11.048360    10.452527   \n",
       "3    1996-01-04 00:00:00+05:30    10.376141    10.409243    10.238641   \n",
       "4    1996-01-05 00:00:00+05:30    10.337945    10.337945    10.218269   \n",
       "...                        ...          ...          ...          ...   \n",
       "6735 2022-10-13 00:00:00+05:30  2371.399902  2394.000000  2360.100098   \n",
       "6736 2022-10-14 00:00:00+05:30  2415.000000  2416.350098  2369.100098   \n",
       "6737 2022-10-17 00:00:00+05:30  2355.000000  2414.000000  2343.600098   \n",
       "6738 2022-10-18 00:00:00+05:30  2422.000000  2463.000000  2420.149902   \n",
       "6739 2022-10-19 00:00:00+05:30  2454.500000  2527.850098  2441.699951   \n",
       "\n",
       "            Close     Volume  Dividends  Stock Splits  \n",
       "0       10.477991   48051995        0.0           0.0  \n",
       "1       10.396510   77875009        0.0           0.0  \n",
       "2       10.475444   96602936        0.0           0.0  \n",
       "3       10.378687  100099436        0.0           0.0  \n",
       "4       10.307389   76935930        0.0           0.0  \n",
       "...           ...        ...        ...           ...  \n",
       "6735  2382.800049    3382098        0.0           0.0  \n",
       "6736  2370.699951    4202459        0.0           0.0  \n",
       "6737  2408.750000    7720595        0.0           0.0  \n",
       "6738  2451.250000    5729899        0.0           0.0  \n",
       "6739  2493.899902    8882553        0.0           0.0  \n",
       "\n",
       "[6740 rows x 8 columns]"
      ]
     },
     "execution_count": 81,
     "metadata": {},
     "output_type": "execute_result"
    }
   ],
   "source": [
    "df"
   ]
  },
  {
   "cell_type": "code",
   "execution_count": 82,
   "id": "e9a67268",
   "metadata": {},
   "outputs": [],
   "source": [
    "import numpy as np\n",
    "from sklearn import metrics\n",
    "%matplotlib inline\n",
    "import matplotlib.pyplot as plt"
   ]
  },
  {
   "cell_type": "markdown",
   "id": "9b9c9fea",
   "metadata": {},
   "source": [
    "## Convert Date to Datetime"
   ]
  },
  {
   "cell_type": "code",
   "execution_count": 83,
   "id": "a65e8642",
   "metadata": {},
   "outputs": [],
   "source": [
    "df['Date'] = pd.to_datetime(df.Date)"
   ]
  },
  {
   "cell_type": "markdown",
   "id": "674d9c77",
   "metadata": {},
   "source": [
    "## Shape of data"
   ]
  },
  {
   "cell_type": "code",
   "execution_count": 84,
   "id": "82c053d0",
   "metadata": {},
   "outputs": [
    {
     "data": {
      "text/plain": [
       "(6740, 8)"
      ]
     },
     "execution_count": 84,
     "metadata": {},
     "output_type": "execute_result"
    }
   ],
   "source": [
    "df.shape"
   ]
  },
  {
   "cell_type": "markdown",
   "id": "458120ab",
   "metadata": {},
   "source": [
    "## Check for null values"
   ]
  },
  {
   "cell_type": "code",
   "execution_count": 85,
   "id": "0c74a7bc",
   "metadata": {},
   "outputs": [
    {
     "data": {
      "text/plain": [
       "Date            0\n",
       "Open            0\n",
       "High            0\n",
       "Low             0\n",
       "Close           0\n",
       "Volume          0\n",
       "Dividends       0\n",
       "Stock Splits    0\n",
       "dtype: int64"
      ]
     },
     "execution_count": 85,
     "metadata": {},
     "output_type": "execute_result"
    }
   ],
   "source": [
    "df.isnull().sum()"
   ]
  },
  {
   "cell_type": "code",
   "execution_count": 86,
   "id": "616d1d41",
   "metadata": {},
   "outputs": [
    {
     "data": {
      "text/plain": [
       "Date            False\n",
       "Open            False\n",
       "High            False\n",
       "Low             False\n",
       "Close           False\n",
       "Volume          False\n",
       "Dividends       False\n",
       "Stock Splits    False\n",
       "dtype: bool"
      ]
     },
     "execution_count": 86,
     "metadata": {},
     "output_type": "execute_result"
    }
   ],
   "source": [
    "df.isna().any()"
   ]
  },
  {
   "cell_type": "markdown",
   "id": "9d0e35ba",
   "metadata": {},
   "source": [
    "## Infromation about data"
   ]
  },
  {
   "cell_type": "code",
   "execution_count": 87,
   "id": "7acbf8f9",
   "metadata": {},
   "outputs": [
    {
     "name": "stdout",
     "output_type": "stream",
     "text": [
      "<class 'pandas.core.frame.DataFrame'>\n",
      "RangeIndex: 6740 entries, 0 to 6739\n",
      "Data columns (total 8 columns):\n",
      " #   Column        Non-Null Count  Dtype                       \n",
      "---  ------        --------------  -----                       \n",
      " 0   Date          6740 non-null   datetime64[ns, Asia/Kolkata]\n",
      " 1   Open          6740 non-null   float64                     \n",
      " 2   High          6740 non-null   float64                     \n",
      " 3   Low           6740 non-null   float64                     \n",
      " 4   Close         6740 non-null   float64                     \n",
      " 5   Volume        6740 non-null   int64                       \n",
      " 6   Dividends     6740 non-null   float64                     \n",
      " 7   Stock Splits  6740 non-null   float64                     \n",
      "dtypes: datetime64[ns, Asia/Kolkata](1), float64(6), int64(1)\n",
      "memory usage: 421.4 KB\n"
     ]
    }
   ],
   "source": [
    "df.info()"
   ]
  },
  {
   "cell_type": "markdown",
   "id": "3d4b9fd1",
   "metadata": {},
   "source": [
    "## Describe the data"
   ]
  },
  {
   "cell_type": "code",
   "execution_count": 88,
   "id": "4edbfb43",
   "metadata": {},
   "outputs": [
    {
     "data": {
      "text/html": [
       "<div>\n",
       "<style scoped>\n",
       "    .dataframe tbody tr th:only-of-type {\n",
       "        vertical-align: middle;\n",
       "    }\n",
       "\n",
       "    .dataframe tbody tr th {\n",
       "        vertical-align: top;\n",
       "    }\n",
       "\n",
       "    .dataframe thead th {\n",
       "        text-align: right;\n",
       "    }\n",
       "</style>\n",
       "<table border=\"1\" class=\"dataframe\">\n",
       "  <thead>\n",
       "    <tr style=\"text-align: right;\">\n",
       "      <th></th>\n",
       "      <th>Open</th>\n",
       "      <th>High</th>\n",
       "      <th>Low</th>\n",
       "      <th>Close</th>\n",
       "      <th>Volume</th>\n",
       "      <th>Dividends</th>\n",
       "      <th>Stock Splits</th>\n",
       "    </tr>\n",
       "  </thead>\n",
       "  <tbody>\n",
       "    <tr>\n",
       "      <th>count</th>\n",
       "      <td>6740.000000</td>\n",
       "      <td>6740.000000</td>\n",
       "      <td>6740.000000</td>\n",
       "      <td>6740.000000</td>\n",
       "      <td>6.740000e+03</td>\n",
       "      <td>6740.000000</td>\n",
       "      <td>6740.000000</td>\n",
       "    </tr>\n",
       "    <tr>\n",
       "      <th>mean</th>\n",
       "      <td>508.530990</td>\n",
       "      <td>514.809379</td>\n",
       "      <td>501.835621</td>\n",
       "      <td>508.057159</td>\n",
       "      <td>2.926606e+07</td>\n",
       "      <td>0.013781</td>\n",
       "      <td>0.000890</td>\n",
       "    </tr>\n",
       "    <tr>\n",
       "      <th>std</th>\n",
       "      <td>642.258308</td>\n",
       "      <td>649.563230</td>\n",
       "      <td>634.610929</td>\n",
       "      <td>641.743488</td>\n",
       "      <td>4.864642e+07</td>\n",
       "      <td>0.257468</td>\n",
       "      <td>0.042189</td>\n",
       "    </tr>\n",
       "    <tr>\n",
       "      <th>min</th>\n",
       "      <td>7.791652</td>\n",
       "      <td>7.827300</td>\n",
       "      <td>7.743273</td>\n",
       "      <td>7.827300</td>\n",
       "      <td>0.000000e+00</td>\n",
       "      <td>0.000000</td>\n",
       "      <td>0.000000</td>\n",
       "    </tr>\n",
       "    <tr>\n",
       "      <th>25%</th>\n",
       "      <td>40.431547</td>\n",
       "      <td>41.003243</td>\n",
       "      <td>39.750176</td>\n",
       "      <td>40.300296</td>\n",
       "      <td>6.820464e+06</td>\n",
       "      <td>0.000000</td>\n",
       "      <td>0.000000</td>\n",
       "    </tr>\n",
       "    <tr>\n",
       "      <th>50%</th>\n",
       "      <td>376.518418</td>\n",
       "      <td>380.659098</td>\n",
       "      <td>371.470329</td>\n",
       "      <td>375.720963</td>\n",
       "      <td>1.254099e+07</td>\n",
       "      <td>0.000000</td>\n",
       "      <td>0.000000</td>\n",
       "    </tr>\n",
       "    <tr>\n",
       "      <th>75%</th>\n",
       "      <td>504.657336</td>\n",
       "      <td>511.187197</td>\n",
       "      <td>496.228766</td>\n",
       "      <td>503.988945</td>\n",
       "      <td>3.129197e+07</td>\n",
       "      <td>0.000000</td>\n",
       "      <td>0.000000</td>\n",
       "    </tr>\n",
       "    <tr>\n",
       "      <th>max</th>\n",
       "      <td>2847.576602</td>\n",
       "      <td>2847.576602</td>\n",
       "      <td>2777.737050</td>\n",
       "      <td>2811.385742</td>\n",
       "      <td>6.686620e+08</td>\n",
       "      <td>8.000000</td>\n",
       "      <td>2.000000</td>\n",
       "    </tr>\n",
       "  </tbody>\n",
       "</table>\n",
       "</div>"
      ],
      "text/plain": [
       "              Open         High          Low        Close        Volume  \\\n",
       "count  6740.000000  6740.000000  6740.000000  6740.000000  6.740000e+03   \n",
       "mean    508.530990   514.809379   501.835621   508.057159  2.926606e+07   \n",
       "std     642.258308   649.563230   634.610929   641.743488  4.864642e+07   \n",
       "min       7.791652     7.827300     7.743273     7.827300  0.000000e+00   \n",
       "25%      40.431547    41.003243    39.750176    40.300296  6.820464e+06   \n",
       "50%     376.518418   380.659098   371.470329   375.720963  1.254099e+07   \n",
       "75%     504.657336   511.187197   496.228766   503.988945  3.129197e+07   \n",
       "max    2847.576602  2847.576602  2777.737050  2811.385742  6.686620e+08   \n",
       "\n",
       "         Dividends  Stock Splits  \n",
       "count  6740.000000   6740.000000  \n",
       "mean      0.013781      0.000890  \n",
       "std       0.257468      0.042189  \n",
       "min       0.000000      0.000000  \n",
       "25%       0.000000      0.000000  \n",
       "50%       0.000000      0.000000  \n",
       "75%       0.000000      0.000000  \n",
       "max       8.000000      2.000000  "
      ]
     },
     "execution_count": 88,
     "metadata": {},
     "output_type": "execute_result"
    }
   ],
   "source": [
    "df.describe()"
   ]
  },
  {
   "cell_type": "code",
   "execution_count": 89,
   "id": "86d116a1",
   "metadata": {},
   "outputs": [
    {
     "name": "stdout",
     "output_type": "stream",
     "text": [
      "6740\n"
     ]
    }
   ],
   "source": [
    "print(len(df))"
   ]
  },
  {
   "cell_type": "markdown",
   "id": "29c3fba4",
   "metadata": {},
   "source": [
    "## Ploting the Data using open values"
   ]
  },
  {
   "cell_type": "code",
   "execution_count": 90,
   "id": "03784486",
   "metadata": {},
   "outputs": [
    {
     "data": {
      "text/plain": [
       "<AxesSubplot:>"
      ]
     },
     "execution_count": 90,
     "metadata": {},
     "output_type": "execute_result"
    },
    {
     "data": {
      "image/png": "[encoded data removed]",
      "text/plain": [
       "<Figure size 1152x432 with 1 Axes>"
      ]
     },
     "metadata": {
      "needs_background": "light"
     },
     "output_type": "display_data"
    }
   ],
   "source": [
    "df['Open'].plot(figsize=(16,6))"
   ]
  },
  {
   "cell_type": "code",
   "execution_count": 91,
   "id": "34e3c356",
   "metadata": {},
   "outputs": [],
   "source": [
    "x = df[['Open','High','Low','Volume']]\n",
    "y = df['Close']"
   ]
  },
  {
   "cell_type": "markdown",
   "id": "fafff3bf",
   "metadata": {},
   "source": [
    "## Spliting the data for training and testing"
   ]
  },
  {
   "cell_type": "code",
   "execution_count": 92,
   "id": "71e502c6",
   "metadata": {},
   "outputs": [],
   "source": [
    "from sklearn.model_selection import train_test_split\n",
    "x_train , x_test , y_train , y_test = train_test_split(x ,y , random_state = 0 )"
   ]
  },
  {
   "cell_type": "code",
   "execution_count": 93,
   "id": "e0bd2bff",
   "metadata": {},
   "outputs": [
    {
     "data": {
      "text/plain": [
       "(5055, 4)"
      ]
     },
     "execution_count": 93,
     "metadata": {},
     "output_type": "execute_result"
    }
   ],
   "source": [
    "x_train.shape"
   ]
  },
  {
   "cell_type": "code",
   "execution_count": 94,
   "id": "c7759394",
   "metadata": {},
   "outputs": [
    {
     "data": {
      "text/plain": [
       "(1685, 4)"
      ]
     },
     "execution_count": 94,
     "metadata": {},
     "output_type": "execute_result"
    }
   ],
   "source": [
    "x_test.shape"
   ]
  },
  {
   "cell_type": "code",
   "execution_count": 95,
   "id": "49484dfc",
   "metadata": {},
   "outputs": [],
   "source": [
    "from sklearn.linear_model import LinearRegression\n",
    "from sklearn.metrics import confusion_matrix, accuracy_score\n",
    "regressor = LinearRegression()"
   ]
  },
  {
   "cell_type": "code",
   "execution_count": 96,
   "id": "32009ee9",
   "metadata": {},
   "outputs": [
    {
     "name": "stdout",
     "output_type": "stream",
     "text": [
      "<class 'pandas.core.frame.DataFrame'>\n",
      "RangeIndex: 6740 entries, 0 to 6739\n",
      "Data columns (total 8 columns):\n",
      " #   Column        Non-Null Count  Dtype                       \n",
      "---  ------        --------------  -----                       \n",
      " 0   Date          6740 non-null   datetime64[ns, Asia/Kolkata]\n",
      " 1   Open          6740 non-null   float64                     \n",
      " 2   High          6740 non-null   float64                     \n",
      " 3   Low           6740 non-null   float64                     \n",
      " 4   Close         6740 non-null   float64                     \n",
      " 5   Volume        6740 non-null   int64                       \n",
      " 6   Dividends     6740 non-null   float64                     \n",
      " 7   Stock Splits  6740 non-null   float64                     \n",
      "dtypes: datetime64[ns, Asia/Kolkata](1), float64(6), int64(1)\n",
      "memory usage: 421.4 KB\n"
     ]
    }
   ],
   "source": [
    "df.info()"
   ]
  },
  {
   "cell_type": "markdown",
   "id": "e4d6a598",
   "metadata": {},
   "source": [
    "## If any Replace NA values with 0 "
   ]
  },
  {
   "cell_type": "code",
   "execution_count": 97,
   "id": "0f171162",
   "metadata": {},
   "outputs": [],
   "source": [
    "df.Open = df.Open.fillna(0)\n",
    "df.High = df.High.fillna(0)\n",
    "df.Low = df.Low.fillna(0)\n",
    "df.Close = df.Close.fillna(0)\n",
    "df.Volume = df.Volume.fillna(0)"
   ]
  },
  {
   "cell_type": "code",
   "execution_count": 98,
   "id": "563f967d",
   "metadata": {},
   "outputs": [],
   "source": [
    "import pandas_datareader as pdr"
   ]
  },
  {
   "cell_type": "code",
   "execution_count": 99,
   "id": "657bb64d",
   "metadata": {},
   "outputs": [],
   "source": [
    "df1=df.reset_index()['Close']"
   ]
  },
  {
   "cell_type": "code",
   "execution_count": 100,
   "id": "1766e694",
   "metadata": {},
   "outputs": [
    {
     "data": {
      "text/plain": [
       "0         10.477991\n",
       "1         10.396510\n",
       "2         10.475444\n",
       "3         10.378687\n",
       "4         10.307389\n",
       "           ...     \n",
       "6735    2382.800049\n",
       "6736    2370.699951\n",
       "6737    2408.750000\n",
       "6738    2451.250000\n",
       "6739    2493.899902\n",
       "Name: Close, Length: 6740, dtype: float64"
      ]
     },
     "execution_count": 100,
     "metadata": {},
     "output_type": "execute_result"
    }
   ],
   "source": [
    "df1"
   ]
  },
  {
   "cell_type": "code",
   "execution_count": 101,
   "id": "61b867f1",
   "metadata": {},
   "outputs": [
    {
     "data": {
      "text/plain": [
       "[<matplotlib.lines.Line2D at 0x22a5ab1b7f0>]"
      ]
     },
     "execution_count": 101,
     "metadata": {},
     "output_type": "execute_result"
    },
    {
     "data": {
      "image/png": "[encoded data removed]",
      "text/plain": [
       "<Figure size 432x288 with 1 Axes>"
      ]
     },
     "metadata": {
      "needs_background": "light"
     },
     "output_type": "display_data"
    }
   ],
   "source": [
    "import matplotlib.pyplot as plt\n",
    "plt.plot(df1)"
   ]
  },
  {
   "cell_type": "code",
   "execution_count": 102,
   "id": "54be9f6f",
   "metadata": {},
   "outputs": [],
   "source": [
    "from sklearn.preprocessing import MinMaxScaler\n",
    "scaler=MinMaxScaler(feature_range=(0,1))\n",
    "df1=scaler.fit_transform(np.array(df1).reshape(-1,1))"
   ]
  },
  {
   "cell_type": "code",
   "execution_count": 103,
   "id": "f31c1edc",
   "metadata": {},
   "outputs": [
    {
     "name": "stdout",
     "output_type": "stream",
     "text": [
      "[[0.00094547]\n",
      " [0.00091641]\n",
      " [0.00094457]\n",
      " ...\n",
      " [0.85638404]\n",
      " [0.87154334]\n",
      " [0.88675612]]\n"
     ]
    }
   ],
   "source": [
    "print(df1)"
   ]
  },
  {
   "cell_type": "code",
   "execution_count": 104,
   "id": "bcd62eec",
   "metadata": {},
   "outputs": [],
   "source": [
    "training_size=int(len(df1)*0.70)\n",
    "test_size=len(df1)-training_size\n",
    "train_data,test_data=df1[0:training_size,:],df1[training_size:len(df1),:1]"
   ]
  },
  {
   "cell_type": "code",
   "execution_count": 105,
   "id": "bcfc711c",
   "metadata": {},
   "outputs": [
    {
     "data": {
      "text/plain": [
       "(4718, 2022)"
      ]
     },
     "execution_count": 105,
     "metadata": {},
     "output_type": "execute_result"
    }
   ],
   "source": [
    "training_size,test_size"
   ]
  },
  {
   "cell_type": "code",
   "execution_count": 106,
   "id": "743cde82",
   "metadata": {},
   "outputs": [
    {
     "data": {
      "text/plain": [
       "array([[0.00094547],\n",
       "       [0.00091641],\n",
       "       [0.00094457],\n",
       "       ...,\n",
       "       [0.16114412],\n",
       "       [0.16260496],\n",
       "       [0.16241185]])"
      ]
     },
     "execution_count": 106,
     "metadata": {},
     "output_type": "execute_result"
    }
   ],
   "source": [
    "train_data"
   ]
  },
  {
   "cell_type": "code",
   "execution_count": 107,
   "id": "af90128d",
   "metadata": {},
   "outputs": [],
   "source": [
    "import numpy\n",
    "# convert an array of values into a dataset matrix\n",
    "def create_dataset(dataset, time_step=1):\n",
    "\tdataX, dataY = [], []\n",
    "\tfor i in range(len(dataset)-time_step-1):\n",
    "\t\ta = dataset[i:(i+time_step), 0]   ###i=0, 0,1,2,3-----99   100 \n",
    "\t\tdataX.append(a)\n",
    "\t\tdataY.append(dataset[i + time_step, 0])\n",
    "\treturn numpy.array(dataX), numpy.array(dataY)"
   ]
  },
  {
   "cell_type": "code",
   "execution_count": 108,
   "id": "ec056994",
   "metadata": {},
   "outputs": [],
   "source": [
    "time_step = 100\n",
    "X_train, y_train = create_dataset(train_data, time_step)\n",
    "X_test, ytest = create_dataset(test_data, time_step)"
   ]
  },
  {
   "cell_type": "code",
   "execution_count": 109,
   "id": "360c632d",
   "metadata": {},
   "outputs": [
    {
     "name": "stdout",
     "output_type": "stream",
     "text": [
      "(4617, 100)\n",
      "(4617,)\n"
     ]
    },
    {
     "data": {
      "text/plain": [
       "(None, None)"
      ]
     },
     "execution_count": 109,
     "metadata": {},
     "output_type": "execute_result"
    }
   ],
   "source": [
    "print(X_train.shape), print(y_train.shape)"
   ]
  },
  {
   "cell_type": "code",
   "execution_count": 110,
   "id": "6fef42a8",
   "metadata": {},
   "outputs": [
    {
     "name": "stdout",
     "output_type": "stream",
     "text": [
      "(1921, 100)\n",
      "(1921,)\n"
     ]
    },
    {
     "data": {
      "text/plain": [
       "(None, None)"
      ]
     },
     "execution_count": 110,
     "metadata": {},
     "output_type": "execute_result"
    }
   ],
   "source": [
    "print(X_test.shape), print(ytest.shape)"
   ]
  },
  {
   "cell_type": "code",
   "execution_count": 111,
   "id": "37efc2b1",
   "metadata": {},
   "outputs": [],
   "source": [
    "X_train =X_train.reshape(X_train.shape[0],X_train.shape[1] , 1)\n",
    "X_test = X_test.reshape(X_test.shape[0],X_test.shape[1] , 1)"
   ]
  },
  {
   "cell_type": "code",
   "execution_count": 112,
   "id": "34b5c005",
   "metadata": {},
   "outputs": [
    {
     "name": "stdout",
     "output_type": "stream",
     "text": [
      "Requirement already satisfied: tensorflow in c:\\programdata\\anaconda3\\lib\\site-packages (2.10.0)\n",
      "Requirement already satisfied: six>=1.12.0 in c:\\programdata\\anaconda3\\lib\\site-packages (from tensorflow) (1.16.0)\n",
      "Requirement already satisfied: tensorflow-io-gcs-filesystem>=0.23.1 in c:\\programdata\\anaconda3\\lib\\site-packages (from tensorflow) (0.27.0)\n",
      "Requirement already satisfied: astunparse>=1.6.0 in c:\\programdata\\anaconda3\\lib\\site-packages (from tensorflow) (1.6.3)\n",
      "Requirement already satisfied: keras<2.11,>=2.10.0 in c:\\programdata\\anaconda3\\lib\\site-packages (from tensorflow) (2.10.0)\n",
      "Requirement already satisfied: gast<=0.4.0,>=0.2.1 in c:\\programdata\\anaconda3\\lib\\site-packages (from tensorflow) (0.4.0)\n",
      "Requirement already satisfied: protobuf<3.20,>=3.9.2 in c:\\programdata\\anaconda3\\lib\\site-packages (from tensorflow) (3.19.1)\n",
      "Requirement already satisfied: h5py>=2.9.0 in c:\\programdata\\anaconda3\\lib\\site-packages (from tensorflow) (3.6.0)\n",
      "Requirement already satisfied: numpy>=1.20 in c:\\programdata\\anaconda3\\lib\\site-packages (from tensorflow) (1.21.5)\n",
      "Requirement already satisfied: wrapt>=1.11.0 in c:\\programdata\\anaconda3\\lib\\site-packages (from tensorflow) (1.12.1)\n",
      "Requirement already satisfied: termcolor>=1.1.0 in c:\\programdata\\anaconda3\\lib\\site-packages (from tensorflow) (2.0.1)\n",
      "Requirement already satisfied: packaging in c:\\programdata\\anaconda3\\lib\\site-packages (from tensorflow) (21.3)\n",
      "Requirement already satisfied: keras-preprocessing>=1.1.1 in c:\\programdata\\anaconda3\\lib\\site-packages (from tensorflow) (1.1.2)\n",
      "Requirement already satisfied: tensorboard<2.11,>=2.10 in c:\\programdata\\anaconda3\\lib\\site-packages (from tensorflow) (2.10.1)\n",
      "Requirement already satisfied: typing-extensions>=3.6.6 in c:\\programdata\\anaconda3\\lib\\site-packages (from tensorflow) (4.1.1)\n",
      "Requirement already satisfied: libclang>=13.0.0 in c:\\programdata\\anaconda3\\lib\\site-packages (from tensorflow) (14.0.6)\n",
      "Requirement already satisfied: absl-py>=1.0.0 in c:\\programdata\\anaconda3\\lib\\site-packages (from tensorflow) (1.3.0)\n",
      "Requirement already satisfied: grpcio<2.0,>=1.24.3 in c:\\programdata\\anaconda3\\lib\\site-packages (from tensorflow) (1.42.0)\n",
      "Requirement already satisfied: opt-einsum>=2.3.2 in c:\\programdata\\anaconda3\\lib\\site-packages (from tensorflow) (3.3.0)\n",
      "Requirement already satisfied: flatbuffers>=2.0 in c:\\programdata\\anaconda3\\lib\\site-packages (from tensorflow) (22.9.24)\n",
      "Requirement already satisfied: tensorflow-estimator<2.11,>=2.10.0 in c:\\programdata\\anaconda3\\lib\\site-packages (from tensorflow) (2.10.0)\n",
      "Requirement already satisfied: google-pasta>=0.1.1 in c:\\programdata\\anaconda3\\lib\\site-packages (from tensorflow) (0.2.0)\n",
      "Requirement already satisfied: setuptools in c:\\programdata\\anaconda3\\lib\\site-packages (from tensorflow) (61.2.0)\n",
      "Requirement already satisfied: wheel<1.0,>=0.23.0 in c:\\programdata\\anaconda3\\lib\\site-packages (from astunparse>=1.6.0->tensorflow) (0.37.1)\n",
      "Requirement already satisfied: werkzeug>=1.0.1 in c:\\programdata\\anaconda3\\lib\\site-packages (from tensorboard<2.11,>=2.10->tensorflow) (2.0.3)\n",
      "Requirement already satisfied: tensorboard-plugin-wit>=1.6.0 in c:\\programdata\\anaconda3\\lib\\site-packages (from tensorboard<2.11,>=2.10->tensorflow) (1.8.1)\n",
      "Requirement already satisfied: tensorboard-data-server<0.7.0,>=0.6.0 in c:\\programdata\\anaconda3\\lib\\site-packages (from tensorboard<2.11,>=2.10->tensorflow) (0.6.1)\n",
      "Requirement already satisfied: requests<3,>=2.21.0 in c:\\programdata\\anaconda3\\lib\\site-packages (from tensorboard<2.11,>=2.10->tensorflow) (2.27.1)\n",
      "Requirement already satisfied: google-auth<3,>=1.6.3 in c:\\programdata\\anaconda3\\lib\\site-packages (from tensorboard<2.11,>=2.10->tensorflow) (1.33.0)\n",
      "Requirement already satisfied: google-auth-oauthlib<0.5,>=0.4.1 in c:\\programdata\\anaconda3\\lib\\site-packages (from tensorboard<2.11,>=2.10->tensorflow) (0.4.6)\n",
      "Requirement already satisfied: markdown>=2.6.8 in c:\\programdata\\anaconda3\\lib\\site-packages (from tensorboard<2.11,>=2.10->tensorflow) (3.3.4)\n",
      "Requirement already satisfied: pyasn1-modules>=0.2.1 in c:\\programdata\\anaconda3\\lib\\site-packages (from google-auth<3,>=1.6.3->tensorboard<2.11,>=2.10->tensorflow) (0.2.8)\n",
      "Requirement already satisfied: cachetools<5.0,>=2.0.0 in c:\\programdata\\anaconda3\\lib\\site-packages (from google-auth<3,>=1.6.3->tensorboard<2.11,>=2.10->tensorflow) (4.2.2)\n",
      "Requirement already satisfied: rsa<5,>=3.1.4 in c:\\programdata\\anaconda3\\lib\\site-packages (from google-auth<3,>=1.6.3->tensorboard<2.11,>=2.10->tensorflow) (4.7.2)\n",
      "Requirement already satisfied: requests-oauthlib>=0.7.0 in c:\\programdata\\anaconda3\\lib\\site-packages (from google-auth-oauthlib<0.5,>=0.4.1->tensorboard<2.11,>=2.10->tensorflow) (1.3.1)\n",
      "Requirement already satisfied: pyasn1<0.5.0,>=0.4.6 in c:\\programdata\\anaconda3\\lib\\site-packages (from pyasn1-modules>=0.2.1->google-auth<3,>=1.6.3->tensorboard<2.11,>=2.10->tensorflow) (0.4.8)\n",
      "Requirement already satisfied: certifi>=2017.4.17 in c:\\programdata\\anaconda3\\lib\\site-packages (from requests<3,>=2.21.0->tensorboard<2.11,>=2.10->tensorflow) (2021.10.8)\n",
      "Requirement already satisfied: urllib3<1.27,>=1.21.1 in c:\\programdata\\anaconda3\\lib\\site-packages (from requests<3,>=2.21.0->tensorboard<2.11,>=2.10->tensorflow) (1.26.9)\n",
      "Requirement already satisfied: idna<4,>=2.5 in c:\\programdata\\anaconda3\\lib\\site-packages (from requests<3,>=2.21.0->tensorboard<2.11,>=2.10->tensorflow) (3.3)\n",
      "Requirement already satisfied: charset-normalizer~=2.0.0 in c:\\programdata\\anaconda3\\lib\\site-packages (from requests<3,>=2.21.0->tensorboard<2.11,>=2.10->tensorflow) (2.0.4)\n",
      "Requirement already satisfied: oauthlib>=3.0.0 in c:\\programdata\\anaconda3\\lib\\site-packages (from requests-oauthlib>=0.7.0->google-auth-oauthlib<0.5,>=0.4.1->tensorboard<2.11,>=2.10->tensorflow) (3.2.2)\n",
      "Requirement already satisfied: pyparsing!=3.0.5,>=2.0.2 in c:\\programdata\\anaconda3\\lib\\site-packages (from packaging->tensorflow) (3.0.4)\n"
     ]
    }
   ],
   "source": [
    "!pip install tensorflow"
   ]
  },
  {
   "cell_type": "code",
   "execution_count": 113,
   "id": "f9cf2061",
   "metadata": {},
   "outputs": [],
   "source": [
    "from tensorflow.keras.models import Sequential\n",
    "from tensorflow.keras.layers import Dense\n",
    "from tensorflow.keras.layers import LSTM"
   ]
  },
  {
   "cell_type": "markdown",
   "id": "b7ffaaca",
   "metadata": {},
   "source": [
    "## LSTM Model for creation of Predection"
   ]
  },
  {
   "cell_type": "code",
   "execution_count": 114,
   "id": "8627eb16",
   "metadata": {},
   "outputs": [],
   "source": [
    "model=Sequential()\n",
    "model.add(LSTM(50,return_sequences=True,input_shape=(100,1)))\n",
    "model.add(LSTM(50,return_sequences=True))\n",
    "model.add(LSTM(50))\n",
    "model.add(Dense(1))\n",
    "model.compile(loss='mean_squared_error',optimizer='adam')"
   ]
  },
  {
   "cell_type": "markdown",
   "id": "2eef9922",
   "metadata": {},
   "source": [
    "## Model Summary "
   ]
  },
  {
   "cell_type": "code",
   "execution_count": 115,
   "id": "a3cf1d2d",
   "metadata": {},
   "outputs": [
    {
     "name": "stdout",
     "output_type": "stream",
     "text": [
      "Model: \"sequential_1\"\n",
      "_________________________________________________________________\n",
      " Layer (type)                Output Shape              Param #   \n",
      "=================================================================\n",
      " lstm_3 (LSTM)               (None, 100, 50)           10400     \n",
      "                                                                 \n",
      " lstm_4 (LSTM)               (None, 100, 50)           20200     \n",
      "                                                                 \n",
      " lstm_5 (LSTM)               (None, 50)                20200     \n",
      "                                                                 \n",
      " dense_1 (Dense)             (None, 1)                 51        \n",
      "                                                                 \n",
      "=================================================================\n",
      "Total params: 50,851\n",
      "Trainable params: 50,851\n",
      "Non-trainable params: 0\n",
      "_________________________________________________________________\n"
     ]
    }
   ],
   "source": [
    "model.summary()"
   ]
  },
  {
   "cell_type": "code",
   "execution_count": 116,
   "id": "482e5d0b",
   "metadata": {},
   "outputs": [
    {
     "name": "stdout",
     "output_type": "stream",
     "text": [
      "Epoch 1/100\n",
      "73/73 [==============================] - 15s 132ms/step - loss: 4.6836e-04 - val_loss: 0.0103\n",
      "Epoch 2/100\n",
      "73/73 [==============================] - 9s 117ms/step - loss: 4.4729e-05 - val_loss: 0.0108\n",
      "Epoch 3/100\n",
      "73/73 [==============================] - 9s 118ms/step - loss: 4.0095e-05 - val_loss: 0.0096\n",
      "Epoch 4/100\n",
      "73/73 [==============================] - 8s 114ms/step - loss: 3.7612e-05 - val_loss: 0.0073\n",
      "Epoch 5/100\n",
      "73/73 [==============================] - 9s 117ms/step - loss: 3.5132e-05 - val_loss: 0.0090\n",
      "Epoch 6/100\n",
      "73/73 [==============================] - 9s 117ms/step - loss: 3.7214e-05 - val_loss: 0.0122\n",
      "Epoch 7/100\n",
      "73/73 [==============================] - 9s 117ms/step - loss: 3.8289e-05 - val_loss: 0.0065\n",
      "Epoch 8/100\n",
      "73/73 [==============================] - 9s 118ms/step - loss: 3.4885e-05 - val_loss: 0.0081\n",
      "Epoch 9/100\n",
      "73/73 [==============================] - 8s 112ms/step - loss: 3.0315e-05 - val_loss: 0.0068\n",
      "Epoch 10/100\n",
      "73/73 [==============================] - 8s 111ms/step - loss: 2.9777e-05 - val_loss: 0.0062\n",
      "Epoch 11/100\n",
      "73/73 [==============================] - 8s 112ms/step - loss: 3.0037e-05 - val_loss: 0.0056\n",
      "Epoch 12/100\n",
      "73/73 [==============================] - 9s 117ms/step - loss: 3.0282e-05 - val_loss: 0.0047\n",
      "Epoch 13/100\n",
      "73/73 [==============================] - 8s 116ms/step - loss: 2.5046e-05 - val_loss: 0.0075\n",
      "Epoch 14/100\n",
      "73/73 [==============================] - 8s 113ms/step - loss: 2.8963e-05 - val_loss: 0.0048\n",
      "Epoch 15/100\n",
      "73/73 [==============================] - 8s 112ms/step - loss: 2.4236e-05 - val_loss: 0.0042\n",
      "Epoch 16/100\n",
      "73/73 [==============================] - 8s 115ms/step - loss: 2.3260e-05 - val_loss: 0.0050\n",
      "Epoch 17/100\n",
      "73/73 [==============================] - 8s 116ms/step - loss: 2.1785e-05 - val_loss: 0.0051\n",
      "Epoch 18/100\n",
      "73/73 [==============================] - 8s 111ms/step - loss: 2.1440e-05 - val_loss: 0.0048\n",
      "Epoch 19/100\n",
      "73/73 [==============================] - 8s 112ms/step - loss: 2.1002e-05 - val_loss: 0.0041\n",
      "Epoch 20/100\n",
      "73/73 [==============================] - 8s 115ms/step - loss: 1.9189e-05 - val_loss: 0.0045\n",
      "Epoch 21/100\n",
      "73/73 [==============================] - 8s 113ms/step - loss: 2.0432e-05 - val_loss: 0.0032\n",
      "Epoch 22/100\n",
      "73/73 [==============================] - 8s 112ms/step - loss: 2.1299e-05 - val_loss: 0.0033\n",
      "Epoch 23/100\n",
      "73/73 [==============================] - 8s 113ms/step - loss: 1.8165e-05 - val_loss: 0.0037\n",
      "Epoch 24/100\n",
      "73/73 [==============================] - 8s 112ms/step - loss: 1.9065e-05 - val_loss: 0.0052\n",
      "Epoch 25/100\n",
      "73/73 [==============================] - 8s 112ms/step - loss: 1.9043e-05 - val_loss: 0.0034\n",
      "Epoch 26/100\n",
      "73/73 [==============================] - 8s 113ms/step - loss: 1.8786e-05 - val_loss: 7.6051e-04\n",
      "Epoch 27/100\n",
      "73/73 [==============================] - 8s 112ms/step - loss: 1.9635e-05 - val_loss: 7.4804e-04\n",
      "Epoch 28/100\n",
      "73/73 [==============================] - 8s 113ms/step - loss: 2.1352e-05 - val_loss: 0.0014\n",
      "Epoch 29/100\n",
      "73/73 [==============================] - 8s 113ms/step - loss: 1.9392e-05 - val_loss: 0.0039\n",
      "Epoch 30/100\n",
      "73/73 [==============================] - 8s 114ms/step - loss: 1.7156e-05 - val_loss: 0.0033\n",
      "Epoch 31/100\n",
      "73/73 [==============================] - 8s 114ms/step - loss: 1.8547e-05 - val_loss: 0.0029\n",
      "Epoch 32/100\n",
      "73/73 [==============================] - 8s 113ms/step - loss: 1.6566e-05 - val_loss: 0.0021\n",
      "Epoch 33/100\n",
      "73/73 [==============================] - 8s 114ms/step - loss: 1.5557e-05 - val_loss: 0.0016\n",
      "Epoch 34/100\n",
      "73/73 [==============================] - 8s 114ms/step - loss: 1.4820e-05 - val_loss: 0.0014\n",
      "Epoch 35/100\n",
      "73/73 [==============================] - 8s 116ms/step - loss: 1.6546e-05 - val_loss: 6.2374e-04\n",
      "Epoch 36/100\n",
      "73/73 [==============================] - 8s 114ms/step - loss: 2.4615e-05 - val_loss: 0.0012\n",
      "Epoch 37/100\n",
      "73/73 [==============================] - 8s 116ms/step - loss: 1.3432e-05 - val_loss: 0.0016\n",
      "Epoch 38/100\n",
      "73/73 [==============================] - 8s 114ms/step - loss: 1.3411e-05 - val_loss: 0.0021\n",
      "Epoch 39/100\n",
      "73/73 [==============================] - 8s 113ms/step - loss: 1.2533e-05 - val_loss: 9.4662e-04\n",
      "Epoch 40/100\n",
      "73/73 [==============================] - 8s 112ms/step - loss: 1.4065e-05 - val_loss: 0.0015\n",
      "Epoch 41/100\n",
      "73/73 [==============================] - 9s 117ms/step - loss: 1.3654e-05 - val_loss: 7.9673e-04\n",
      "Epoch 42/100\n",
      "73/73 [==============================] - 8s 114ms/step - loss: 1.4646e-05 - val_loss: 0.0022\n",
      "Epoch 43/100\n",
      "73/73 [==============================] - 8s 115ms/step - loss: 1.3144e-05 - val_loss: 0.0017\n",
      "Epoch 44/100\n",
      "73/73 [==============================] - 8s 113ms/step - loss: 1.3594e-05 - val_loss: 0.0024\n",
      "Epoch 45/100\n",
      "73/73 [==============================] - 8s 112ms/step - loss: 1.3403e-05 - val_loss: 0.0012\n",
      "Epoch 46/100\n",
      "73/73 [==============================] - 8s 113ms/step - loss: 1.1462e-05 - val_loss: 0.0013\n",
      "Epoch 47/100\n",
      "73/73 [==============================] - 8s 112ms/step - loss: 1.2021e-05 - val_loss: 0.0015\n",
      "Epoch 48/100\n",
      "73/73 [==============================] - 8s 112ms/step - loss: 1.0572e-05 - val_loss: 0.0023\n",
      "Epoch 49/100\n",
      "73/73 [==============================] - 8s 113ms/step - loss: 1.1476e-05 - val_loss: 0.0016\n",
      "Epoch 50/100\n",
      "73/73 [==============================] - 8s 113ms/step - loss: 9.6266e-06 - val_loss: 0.0012\n",
      "Epoch 51/100\n",
      "73/73 [==============================] - 8s 114ms/step - loss: 9.7668e-06 - val_loss: 0.0015\n",
      "Epoch 52/100\n",
      "73/73 [==============================] - 8s 113ms/step - loss: 9.5707e-06 - val_loss: 0.0014\n",
      "Epoch 53/100\n",
      "73/73 [==============================] - 8s 112ms/step - loss: 9.8694e-06 - val_loss: 0.0014\n",
      "Epoch 54/100\n",
      "73/73 [==============================] - 8s 112ms/step - loss: 8.5722e-06 - val_loss: 0.0014\n",
      "Epoch 55/100\n",
      "73/73 [==============================] - 8s 112ms/step - loss: 9.6633e-06 - val_loss: 0.0012\n",
      "Epoch 56/100\n",
      "73/73 [==============================] - 8s 113ms/step - loss: 8.7752e-06 - val_loss: 0.0015\n",
      "Epoch 57/100\n",
      "73/73 [==============================] - 8s 113ms/step - loss: 7.9238e-06 - val_loss: 9.4604e-04\n",
      "Epoch 58/100\n",
      "73/73 [==============================] - 8s 113ms/step - loss: 7.6337e-06 - val_loss: 0.0012\n",
      "Epoch 59/100\n",
      "73/73 [==============================] - 8s 115ms/step - loss: 7.9303e-06 - val_loss: 9.2027e-04\n",
      "Epoch 60/100\n",
      "73/73 [==============================] - 8s 114ms/step - loss: 7.7731e-06 - val_loss: 0.0014\n",
      "Epoch 61/100\n",
      "73/73 [==============================] - 8s 113ms/step - loss: 8.3152e-06 - val_loss: 8.3682e-04\n",
      "Epoch 62/100\n",
      "73/73 [==============================] - 8s 113ms/step - loss: 7.4135e-06 - val_loss: 0.0010\n",
      "Epoch 63/100\n",
      "73/73 [==============================] - 8s 113ms/step - loss: 7.3575e-06 - val_loss: 0.0013\n",
      "Epoch 64/100\n",
      "73/73 [==============================] - 8s 113ms/step - loss: 8.9359e-06 - val_loss: 0.0030\n",
      "Epoch 65/100\n",
      "73/73 [==============================] - 8s 114ms/step - loss: 9.9379e-06 - val_loss: 0.0013\n",
      "Epoch 66/100\n",
      "73/73 [==============================] - 8s 113ms/step - loss: 6.7318e-06 - val_loss: 0.0014\n",
      "Epoch 67/100\n",
      "73/73 [==============================] - 8s 114ms/step - loss: 6.8788e-06 - val_loss: 0.0011\n",
      "Epoch 68/100\n",
      "73/73 [==============================] - 8s 113ms/step - loss: 7.1194e-06 - val_loss: 0.0015\n",
      "Epoch 69/100\n",
      "73/73 [==============================] - 8s 114ms/step - loss: 6.6377e-06 - val_loss: 9.4493e-04\n",
      "Epoch 70/100\n",
      "73/73 [==============================] - 8s 113ms/step - loss: 7.0711e-06 - val_loss: 0.0012\n",
      "Epoch 71/100\n",
      "73/73 [==============================] - 8s 114ms/step - loss: 6.8111e-06 - val_loss: 9.6747e-04\n",
      "Epoch 72/100\n",
      "73/73 [==============================] - 8s 113ms/step - loss: 6.9002e-06 - val_loss: 7.8675e-04\n",
      "Epoch 73/100\n",
      "73/73 [==============================] - 8s 113ms/step - loss: 6.2165e-06 - val_loss: 5.6740e-04\n",
      "Epoch 74/100\n",
      "73/73 [==============================] - 8s 114ms/step - loss: 7.0596e-06 - val_loss: 0.0017\n",
      "Epoch 75/100\n",
      "73/73 [==============================] - 8s 113ms/step - loss: 7.4198e-06 - val_loss: 0.0011\n",
      "Epoch 76/100\n",
      "73/73 [==============================] - 8s 112ms/step - loss: 6.0473e-06 - val_loss: 0.0012\n",
      "Epoch 77/100\n",
      "73/73 [==============================] - 8s 114ms/step - loss: 7.1374e-06 - val_loss: 7.8434e-04\n"
     ]
    },
    {
     "name": "stdout",
     "output_type": "stream",
     "text": [
      "Epoch 78/100\n",
      "73/73 [==============================] - 8s 111ms/step - loss: 7.6682e-06 - val_loss: 8.5726e-04\n",
      "Epoch 79/100\n",
      "73/73 [==============================] - 8s 110ms/step - loss: 8.4143e-06 - val_loss: 0.0021\n",
      "Epoch 80/100\n",
      "73/73 [==============================] - 8s 110ms/step - loss: 7.0091e-06 - val_loss: 0.0010\n",
      "Epoch 81/100\n",
      "73/73 [==============================] - 8s 111ms/step - loss: 8.6097e-06 - val_loss: 0.0012\n",
      "Epoch 82/100\n",
      "73/73 [==============================] - 8s 111ms/step - loss: 6.6680e-06 - val_loss: 0.0014\n",
      "Epoch 83/100\n",
      "73/73 [==============================] - 8s 111ms/step - loss: 6.8166e-06 - val_loss: 0.0014\n",
      "Epoch 84/100\n",
      "73/73 [==============================] - 8s 111ms/step - loss: 6.4949e-06 - val_loss: 0.0014\n",
      "Epoch 85/100\n",
      "73/73 [==============================] - 8s 112ms/step - loss: 6.5390e-06 - val_loss: 0.0013\n",
      "Epoch 86/100\n",
      "73/73 [==============================] - 8s 112ms/step - loss: 7.7428e-06 - val_loss: 0.0017\n",
      "Epoch 87/100\n",
      "73/73 [==============================] - 8s 111ms/step - loss: 7.2278e-06 - val_loss: 9.0144e-04\n",
      "Epoch 88/100\n",
      "73/73 [==============================] - 8s 111ms/step - loss: 7.3182e-06 - val_loss: 0.0011\n",
      "Epoch 89/100\n",
      "73/73 [==============================] - 8s 113ms/step - loss: 6.7261e-06 - val_loss: 8.3352e-04\n",
      "Epoch 90/100\n",
      "73/73 [==============================] - 8s 112ms/step - loss: 7.5530e-06 - val_loss: 0.0019\n",
      "Epoch 91/100\n",
      "73/73 [==============================] - 8s 113ms/step - loss: 7.7110e-06 - val_loss: 0.0010\n",
      "Epoch 92/100\n",
      "73/73 [==============================] - 8s 113ms/step - loss: 7.3372e-06 - val_loss: 0.0013\n",
      "Epoch 93/100\n",
      "73/73 [==============================] - 8s 115ms/step - loss: 8.0516e-06 - val_loss: 0.0010\n",
      "Epoch 94/100\n",
      "73/73 [==============================] - 8s 113ms/step - loss: 7.0337e-06 - val_loss: 0.0012\n",
      "Epoch 95/100\n",
      "73/73 [==============================] - 8s 112ms/step - loss: 6.3326e-06 - val_loss: 0.0020\n",
      "Epoch 96/100\n",
      "73/73 [==============================] - 8s 113ms/step - loss: 6.4809e-06 - val_loss: 0.0015\n",
      "Epoch 97/100\n",
      "73/73 [==============================] - 8s 114ms/step - loss: 6.3239e-06 - val_loss: 0.0016\n",
      "Epoch 98/100\n",
      "73/73 [==============================] - 8s 111ms/step - loss: 8.5530e-06 - val_loss: 0.0013\n",
      "Epoch 99/100\n",
      "73/73 [==============================] - 8s 113ms/step - loss: 6.2567e-06 - val_loss: 0.0015\n",
      "Epoch 100/100\n",
      "73/73 [==============================] - 8s 112ms/step - loss: 7.2176e-06 - val_loss: 9.4379e-04\n"
     ]
    },
    {
     "data": {
      "text/plain": [
       "<keras.callbacks.History at 0x22a5a71bca0>"
      ]
     },
     "execution_count": 116,
     "metadata": {},
     "output_type": "execute_result"
    }
   ],
   "source": [
    "model.fit(X_train,y_train,validation_data=(X_test,ytest),epochs=100,batch_size=64,verbose=1)"
   ]
  },
  {
   "cell_type": "code",
   "execution_count": 117,
   "id": "c9f40d88",
   "metadata": {},
   "outputs": [],
   "source": [
    "import tensorflow as tf"
   ]
  },
  {
   "cell_type": "code",
   "execution_count": 118,
   "id": "53a32d75",
   "metadata": {},
   "outputs": [
    {
     "name": "stdout",
     "output_type": "stream",
     "text": [
      "145/145 [==============================] - 4s 19ms/step\n",
      "61/61 [==============================] - 1s 19ms/step\n"
     ]
    }
   ],
   "source": [
    "train_predict=model.predict(X_train)\n",
    "test_predict=model.predict(X_test)"
   ]
  },
  {
   "cell_type": "code",
   "execution_count": 119,
   "id": "5c84af9f",
   "metadata": {},
   "outputs": [],
   "source": [
    "train_predict=scaler.inverse_transform(train_predict)\n",
    "test_predict=scaler.inverse_transform(test_predict)"
   ]
  },
  {
   "cell_type": "code",
   "execution_count": 120,
   "id": "8afe4a5d",
   "metadata": {},
   "outputs": [
    {
     "data": {
      "text/plain": [
       "286.7610613546487"
      ]
     },
     "execution_count": 120,
     "metadata": {},
     "output_type": "execute_result"
    }
   ],
   "source": [
    "import math\n",
    "from sklearn.metrics import mean_squared_error\n",
    "math.sqrt(mean_squared_error(y_train,train_predict))"
   ]
  },
  {
   "cell_type": "code",
   "execution_count": 121,
   "id": "b7ffc66b",
   "metadata": {},
   "outputs": [
    {
     "data": {
      "text/plain": [
       "1397.7875734828929"
      ]
     },
     "execution_count": 121,
     "metadata": {},
     "output_type": "execute_result"
    }
   ],
   "source": [
    "math.sqrt(mean_squared_error(ytest,test_predict))"
   ]
  },
  {
   "cell_type": "markdown",
   "id": "d6a6e25f",
   "metadata": {},
   "source": [
    "### Plotting \n",
    "# shift train predictions for plotting"
   ]
  },
  {
   "cell_type": "code",
   "execution_count": 122,
   "id": "ad110bde",
   "metadata": {},
   "outputs": [
    {
     "data": {
      "image/png": "[encoded data removed]",
      "text/plain": [
       "<Figure size 432x288 with 1 Axes>"
      ]
     },
     "metadata": {
      "needs_background": "light"
     },
     "output_type": "display_data"
    }
   ],
   "source": [
    "\n",
    "look_back=100\n",
    "trainPredictPlot = numpy.empty_like(df1)\n",
    "trainPredictPlot[:, :] = np.nan\n",
    "trainPredictPlot[look_back:len(train_predict)+look_back, :] = train_predict\n",
    "# shift test predictions for plotting\n",
    "testPredictPlot = numpy.empty_like(df1)\n",
    "testPredictPlot[:, :] = numpy.nan\n",
    "testPredictPlot[len(train_predict)+(look_back*2)+1:len(df1)-1, :] = test_predict\n",
    "# plot baseline and predictions\n",
    "plt.plot(scaler.inverse_transform(df1))\n",
    "plt.plot(trainPredictPlot)\n",
    "plt.plot(testPredictPlot)\n",
    "plt.show()"
   ]
  },
  {
   "cell_type": "code",
   "execution_count": 123,
   "id": "053db224",
   "metadata": {},
   "outputs": [],
   "source": [
    "len(test_data)\n",
    "a = len(test_data)-100"
   ]
  },
  {
   "cell_type": "code",
   "execution_count": 124,
   "id": "7df970f2",
   "metadata": {},
   "outputs": [
    {
     "data": {
      "text/plain": [
       "(1, 100)"
      ]
     },
     "execution_count": 124,
     "metadata": {},
     "output_type": "execute_result"
    }
   ],
   "source": [
    "x_input=test_data[a:].reshape(1,-1)\n",
    "x_input.shape"
   ]
  },
  {
   "cell_type": "code",
   "execution_count": 125,
   "id": "a4040f97",
   "metadata": {},
   "outputs": [],
   "source": [
    "temp_input=list(x_input)\n",
    "temp_input=temp_input[0].tolist()"
   ]
  },
  {
   "cell_type": "code",
   "execution_count": 126,
   "id": "e5329362",
   "metadata": {
    "scrolled": true
   },
   "outputs": [
    {
     "data": {
      "text/plain": [
       "[0.9129622635313349,\n",
       " 0.9448612468801567,\n",
       " 0.9334281102223437,\n",
       " 0.9337303732665682,\n",
       " 0.9660206178823735,\n",
       " 0.9856507346870609,\n",
       " 0.9814011130915115,\n",
       " 0.9832503080624436,\n",
       " 0.965931706742024,\n",
       " 0.9924964570819241,\n",
       " 0.9624466687040345,\n",
       " 0.9441855744629463,\n",
       " 0.9318101190492841,\n",
       " 0.9205014231549965,\n",
       " 0.9075924138168276,\n",
       " 0.9182609669170807,\n",
       " 0.9015646564966978,\n",
       " 0.9161628904190977,\n",
       " 0.8882467952447768,\n",
       " 0.8737908539799001,\n",
       " 0.8862730724279094,\n",
       " 0.8836414420054196,\n",
       " 0.8961058956418411,\n",
       " 0.9147580769850935,\n",
       " 0.9202702193571239,\n",
       " 0.853787240719817,\n",
       " 0.8555653764443975,\n",
       " 0.8625176877087884,\n",
       " 0.854907468838775,\n",
       " 0.8464615200824401,\n",
       " 0.8476350426361619,\n",
       " 0.8591926200575003,\n",
       " 0.8579658030690146,\n",
       " 0.8427097486234021,\n",
       " 0.8496798246993811,\n",
       " 0.851333519660436,\n",
       " 0.8586059458630491,\n",
       " 0.863886884437207,\n",
       " 0.8873221542181058,\n",
       " 0.8813833080383255,\n",
       " 0.8873577709236915,\n",
       " 0.8579479511750169,\n",
       " 0.8583392124420006,\n",
       " 0.8575212473672671,\n",
       " 0.8709992531707089,\n",
       " 0.8896159048907856,\n",
       " 0.9128733523909854,\n",
       " 0.9163583904289749,\n",
       " 0.9240753723333355,\n",
       " 0.9118242706007891,\n",
       " 0.8983463518797569,\n",
       " 0.9101350460165581,\n",
       " 0.915593806871415,\n",
       " 0.9186522281840643,\n",
       " 0.9335525509858691,\n",
       " 0.9400603936309223,\n",
       " 0.9449856876436821,\n",
       " 0.946466001526935,\n",
       " 0.9295410997809719,\n",
       " 0.9269551005411885,\n",
       " 0.941294003047368,\n",
       " 0.9387793243011656,\n",
       " 0.9360328321802224,\n",
       " 0.9310213265818151,\n",
       " 0.9237626593999417,\n",
       " 0.9381372656941167,\n",
       " 0.9104759736507093,\n",
       " 0.8998109909292558,\n",
       " 0.9138289076731158,\n",
       " 0.9234773774256175,\n",
       " 0.9180913303828977,\n",
       " 0.9193932124085834,\n",
       " 0.9136505628979583,\n",
       " 0.9239053874695136,\n",
       " 0.9316455332948663,\n",
       " 0.9204455162479404,\n",
       " 0.9112963770329157,\n",
       " 0.8886465905879154,\n",
       " 0.8898058316264391,\n",
       " 0.8899485596960109,\n",
       " 0.8924096827602203,\n",
       " 0.8839740097282353,\n",
       " 0.867352241850594,\n",
       " 0.8451840211314829,\n",
       " 0.8519254187994718,\n",
       " 0.8291686080728952,\n",
       " 0.8266183126211071,\n",
       " 0.845326662118645,\n",
       " 0.8423839733285465,\n",
       " 0.8579712892608286,\n",
       " 0.8611458785080776,\n",
       " 0.8648019463988059,\n",
       " 0.8553318214214617,\n",
       " 0.8382463397119291,\n",
       " 0.8444349382428576,\n",
       " 0.8471279617642176,\n",
       " 0.8428119833724426,\n",
       " 0.8563840381784089,\n",
       " 0.8715433440667949,\n",
       " 0.8867561185547642]"
      ]
     },
     "execution_count": 126,
     "metadata": {},
     "output_type": "execute_result"
    }
   ],
   "source": [
    "temp_input"
   ]
  },
  {
   "cell_type": "markdown",
   "id": "cd79b335",
   "metadata": {},
   "source": [
    "# demonstrate prediction for next 10 days"
   ]
  },
  {
   "cell_type": "code",
   "execution_count": 127,
   "id": "d0ef0541",
   "metadata": {},
   "outputs": [
    {
     "name": "stdout",
     "output_type": "stream",
     "text": [
      "[0.8300017]\n",
      "101\n",
      "1 day input [0.94486125 0.93342811 0.93373037 0.96602062 0.98565073 0.98140111\n",
      " 0.98325031 0.96593171 0.99249646 0.96244667 0.94418557 0.93181012\n",
      " 0.92050142 0.90759241 0.91826097 0.90156466 0.91616289 0.8882468\n",
      " 0.87379085 0.88627307 0.88364144 0.8961059  0.91475808 0.92027022\n",
      " 0.85378724 0.85556538 0.86251769 0.85490747 0.84646152 0.84763504\n",
      " 0.85919262 0.8579658  0.84270975 0.84967982 0.85133352 0.85860595\n",
      " 0.86388688 0.88732215 0.88138331 0.88735777 0.85794795 0.85833921\n",
      " 0.85752125 0.87099925 0.8896159  0.91287335 0.91635839 0.92407537\n",
      " 0.91182427 0.89834635 0.91013505 0.91559381 0.91865223 0.93355255\n",
      " 0.94006039 0.94498569 0.946466   0.9295411  0.9269551  0.941294\n",
      " 0.93877932 0.93603283 0.93102133 0.92376266 0.93813727 0.91047597\n",
      " 0.89981099 0.91382891 0.92347738 0.91809133 0.91939321 0.91365056\n",
      " 0.92390539 0.93164553 0.92044552 0.91129638 0.88864659 0.88980583\n",
      " 0.88994856 0.89240968 0.88397401 0.86735224 0.84518402 0.85192542\n",
      " 0.82916861 0.82661831 0.84532666 0.84238397 0.85797129 0.86114588\n",
      " 0.86480195 0.85533182 0.83824634 0.84443494 0.84712796 0.84281198\n",
      " 0.85638404 0.87154334 0.88675612 0.83000171]\n",
      "1 day output [[0.7322341]]\n",
      "2 day input [0.93342811 0.93373037 0.96602062 0.98565073 0.98140111 0.98325031\n",
      " 0.96593171 0.99249646 0.96244667 0.94418557 0.93181012 0.92050142\n",
      " 0.90759241 0.91826097 0.90156466 0.91616289 0.8882468  0.87379085\n",
      " 0.88627307 0.88364144 0.8961059  0.91475808 0.92027022 0.85378724\n",
      " 0.85556538 0.86251769 0.85490747 0.84646152 0.84763504 0.85919262\n",
      " 0.8579658  0.84270975 0.84967982 0.85133352 0.85860595 0.86388688\n",
      " 0.88732215 0.88138331 0.88735777 0.85794795 0.85833921 0.85752125\n",
      " 0.87099925 0.8896159  0.91287335 0.91635839 0.92407537 0.91182427\n",
      " 0.89834635 0.91013505 0.91559381 0.91865223 0.93355255 0.94006039\n",
      " 0.94498569 0.946466   0.9295411  0.9269551  0.941294   0.93877932\n",
      " 0.93603283 0.93102133 0.92376266 0.93813727 0.91047597 0.89981099\n",
      " 0.91382891 0.92347738 0.91809133 0.91939321 0.91365056 0.92390539\n",
      " 0.93164553 0.92044552 0.91129638 0.88864659 0.88980583 0.88994856\n",
      " 0.89240968 0.88397401 0.86735224 0.84518402 0.85192542 0.82916861\n",
      " 0.82661831 0.84532666 0.84238397 0.85797129 0.86114588 0.86480195\n",
      " 0.85533182 0.83824634 0.84443494 0.84712796 0.84281198 0.85638404\n",
      " 0.87154334 0.88675612 0.83000171 0.73223412]\n",
      "2 day output [[0.64304537]]\n",
      "3 day input [0.93373037 0.96602062 0.98565073 0.98140111 0.98325031 0.96593171\n",
      " 0.99249646 0.96244667 0.94418557 0.93181012 0.92050142 0.90759241\n",
      " 0.91826097 0.90156466 0.91616289 0.8882468  0.87379085 0.88627307\n",
      " 0.88364144 0.8961059  0.91475808 0.92027022 0.85378724 0.85556538\n",
      " 0.86251769 0.85490747 0.84646152 0.84763504 0.85919262 0.8579658\n",
      " 0.84270975 0.84967982 0.85133352 0.85860595 0.86388688 0.88732215\n",
      " 0.88138331 0.88735777 0.85794795 0.85833921 0.85752125 0.87099925\n",
      " 0.8896159  0.91287335 0.91635839 0.92407537 0.91182427 0.89834635\n",
      " 0.91013505 0.91559381 0.91865223 0.93355255 0.94006039 0.94498569\n",
      " 0.946466   0.9295411  0.9269551  0.941294   0.93877932 0.93603283\n",
      " 0.93102133 0.92376266 0.93813727 0.91047597 0.89981099 0.91382891\n",
      " 0.92347738 0.91809133 0.91939321 0.91365056 0.92390539 0.93164553\n",
      " 0.92044552 0.91129638 0.88864659 0.88980583 0.88994856 0.89240968\n",
      " 0.88397401 0.86735224 0.84518402 0.85192542 0.82916861 0.82661831\n",
      " 0.84532666 0.84238397 0.85797129 0.86114588 0.86480195 0.85533182\n",
      " 0.83824634 0.84443494 0.84712796 0.84281198 0.85638404 0.87154334\n",
      " 0.88675612 0.83000171 0.73223412 0.64304537]\n",
      "3 day output [[0.58700174]]\n",
      "4 day input [0.96602062 0.98565073 0.98140111 0.98325031 0.96593171 0.99249646\n",
      " 0.96244667 0.94418557 0.93181012 0.92050142 0.90759241 0.91826097\n",
      " 0.90156466 0.91616289 0.8882468  0.87379085 0.88627307 0.88364144\n",
      " 0.8961059  0.91475808 0.92027022 0.85378724 0.85556538 0.86251769\n",
      " 0.85490747 0.84646152 0.84763504 0.85919262 0.8579658  0.84270975\n",
      " 0.84967982 0.85133352 0.85860595 0.86388688 0.88732215 0.88138331\n",
      " 0.88735777 0.85794795 0.85833921 0.85752125 0.87099925 0.8896159\n",
      " 0.91287335 0.91635839 0.92407537 0.91182427 0.89834635 0.91013505\n",
      " 0.91559381 0.91865223 0.93355255 0.94006039 0.94498569 0.946466\n",
      " 0.9295411  0.9269551  0.941294   0.93877932 0.93603283 0.93102133\n",
      " 0.92376266 0.93813727 0.91047597 0.89981099 0.91382891 0.92347738\n",
      " 0.91809133 0.91939321 0.91365056 0.92390539 0.93164553 0.92044552\n",
      " 0.91129638 0.88864659 0.88980583 0.88994856 0.89240968 0.88397401\n",
      " 0.86735224 0.84518402 0.85192542 0.82916861 0.82661831 0.84532666\n",
      " 0.84238397 0.85797129 0.86114588 0.86480195 0.85533182 0.83824634\n",
      " 0.84443494 0.84712796 0.84281198 0.85638404 0.87154334 0.88675612\n",
      " 0.83000171 0.73223412 0.64304537 0.58700174]\n",
      "4 day output [[0.563797]]\n",
      "5 day input [0.98565073 0.98140111 0.98325031 0.96593171 0.99249646 0.96244667\n",
      " 0.94418557 0.93181012 0.92050142 0.90759241 0.91826097 0.90156466\n",
      " 0.91616289 0.8882468  0.87379085 0.88627307 0.88364144 0.8961059\n",
      " 0.91475808 0.92027022 0.85378724 0.85556538 0.86251769 0.85490747\n",
      " 0.84646152 0.84763504 0.85919262 0.8579658  0.84270975 0.84967982\n",
      " 0.85133352 0.85860595 0.86388688 0.88732215 0.88138331 0.88735777\n",
      " 0.85794795 0.85833921 0.85752125 0.87099925 0.8896159  0.91287335\n",
      " 0.91635839 0.92407537 0.91182427 0.89834635 0.91013505 0.91559381\n",
      " 0.91865223 0.93355255 0.94006039 0.94498569 0.946466   0.9295411\n",
      " 0.9269551  0.941294   0.93877932 0.93603283 0.93102133 0.92376266\n",
      " 0.93813727 0.91047597 0.89981099 0.91382891 0.92347738 0.91809133\n",
      " 0.91939321 0.91365056 0.92390539 0.93164553 0.92044552 0.91129638\n",
      " 0.88864659 0.88980583 0.88994856 0.89240968 0.88397401 0.86735224\n",
      " 0.84518402 0.85192542 0.82916861 0.82661831 0.84532666 0.84238397\n",
      " 0.85797129 0.86114588 0.86480195 0.85533182 0.83824634 0.84443494\n",
      " 0.84712796 0.84281198 0.85638404 0.87154334 0.88675612 0.83000171\n",
      " 0.73223412 0.64304537 0.58700174 0.563797  ]\n",
      "5 day output [[0.558105]]\n",
      "6 day input [0.98140111 0.98325031 0.96593171 0.99249646 0.96244667 0.94418557\n",
      " 0.93181012 0.92050142 0.90759241 0.91826097 0.90156466 0.91616289\n",
      " 0.8882468  0.87379085 0.88627307 0.88364144 0.8961059  0.91475808\n",
      " 0.92027022 0.85378724 0.85556538 0.86251769 0.85490747 0.84646152\n",
      " 0.84763504 0.85919262 0.8579658  0.84270975 0.84967982 0.85133352\n",
      " 0.85860595 0.86388688 0.88732215 0.88138331 0.88735777 0.85794795\n",
      " 0.85833921 0.85752125 0.87099925 0.8896159  0.91287335 0.91635839\n",
      " 0.92407537 0.91182427 0.89834635 0.91013505 0.91559381 0.91865223\n",
      " 0.93355255 0.94006039 0.94498569 0.946466   0.9295411  0.9269551\n",
      " 0.941294   0.93877932 0.93603283 0.93102133 0.92376266 0.93813727\n",
      " 0.91047597 0.89981099 0.91382891 0.92347738 0.91809133 0.91939321\n",
      " 0.91365056 0.92390539 0.93164553 0.92044552 0.91129638 0.88864659\n",
      " 0.88980583 0.88994856 0.89240968 0.88397401 0.86735224 0.84518402\n",
      " 0.85192542 0.82916861 0.82661831 0.84532666 0.84238397 0.85797129\n",
      " 0.86114588 0.86480195 0.85533182 0.83824634 0.84443494 0.84712796\n",
      " 0.84281198 0.85638404 0.87154334 0.88675612 0.83000171 0.73223412\n",
      " 0.64304537 0.58700174 0.563797   0.55810499]\n",
      "6 day output [[0.5543256]]\n",
      "7 day input [0.98325031 0.96593171 0.99249646 0.96244667 0.94418557 0.93181012\n",
      " 0.92050142 0.90759241 0.91826097 0.90156466 0.91616289 0.8882468\n",
      " 0.87379085 0.88627307 0.88364144 0.8961059  0.91475808 0.92027022\n",
      " 0.85378724 0.85556538 0.86251769 0.85490747 0.84646152 0.84763504\n",
      " 0.85919262 0.8579658  0.84270975 0.84967982 0.85133352 0.85860595\n",
      " 0.86388688 0.88732215 0.88138331 0.88735777 0.85794795 0.85833921\n",
      " 0.85752125 0.87099925 0.8896159  0.91287335 0.91635839 0.92407537\n",
      " 0.91182427 0.89834635 0.91013505 0.91559381 0.91865223 0.93355255\n",
      " 0.94006039 0.94498569 0.946466   0.9295411  0.9269551  0.941294\n",
      " 0.93877932 0.93603283 0.93102133 0.92376266 0.93813727 0.91047597\n",
      " 0.89981099 0.91382891 0.92347738 0.91809133 0.91939321 0.91365056\n",
      " 0.92390539 0.93164553 0.92044552 0.91129638 0.88864659 0.88980583\n",
      " 0.88994856 0.89240968 0.88397401 0.86735224 0.84518402 0.85192542\n",
      " 0.82916861 0.82661831 0.84532666 0.84238397 0.85797129 0.86114588\n",
      " 0.86480195 0.85533182 0.83824634 0.84443494 0.84712796 0.84281198\n",
      " 0.85638404 0.87154334 0.88675612 0.83000171 0.73223412 0.64304537\n",
      " 0.58700174 0.563797   0.55810499 0.55432558]\n",
      "7 day output [[0.5440956]]\n",
      "8 day input [0.96593171 0.99249646 0.96244667 0.94418557 0.93181012 0.92050142\n",
      " 0.90759241 0.91826097 0.90156466 0.91616289 0.8882468  0.87379085\n",
      " 0.88627307 0.88364144 0.8961059  0.91475808 0.92027022 0.85378724\n",
      " 0.85556538 0.86251769 0.85490747 0.84646152 0.84763504 0.85919262\n",
      " 0.8579658  0.84270975 0.84967982 0.85133352 0.85860595 0.86388688\n",
      " 0.88732215 0.88138331 0.88735777 0.85794795 0.85833921 0.85752125\n",
      " 0.87099925 0.8896159  0.91287335 0.91635839 0.92407537 0.91182427\n",
      " 0.89834635 0.91013505 0.91559381 0.91865223 0.93355255 0.94006039\n",
      " 0.94498569 0.946466   0.9295411  0.9269551  0.941294   0.93877932\n",
      " 0.93603283 0.93102133 0.92376266 0.93813727 0.91047597 0.89981099\n",
      " 0.91382891 0.92347738 0.91809133 0.91939321 0.91365056 0.92390539\n",
      " 0.93164553 0.92044552 0.91129638 0.88864659 0.88980583 0.88994856\n",
      " 0.89240968 0.88397401 0.86735224 0.84518402 0.85192542 0.82916861\n",
      " 0.82661831 0.84532666 0.84238397 0.85797129 0.86114588 0.86480195\n",
      " 0.85533182 0.83824634 0.84443494 0.84712796 0.84281198 0.85638404\n",
      " 0.87154334 0.88675612 0.83000171 0.73223412 0.64304537 0.58700174\n",
      " 0.563797   0.55810499 0.55432558 0.54409558]\n",
      "8 day output [[0.5264312]]\n",
      "9 day input [0.99249646 0.96244667 0.94418557 0.93181012 0.92050142 0.90759241\n",
      " 0.91826097 0.90156466 0.91616289 0.8882468  0.87379085 0.88627307\n",
      " 0.88364144 0.8961059  0.91475808 0.92027022 0.85378724 0.85556538\n",
      " 0.86251769 0.85490747 0.84646152 0.84763504 0.85919262 0.8579658\n",
      " 0.84270975 0.84967982 0.85133352 0.85860595 0.86388688 0.88732215\n",
      " 0.88138331 0.88735777 0.85794795 0.85833921 0.85752125 0.87099925\n",
      " 0.8896159  0.91287335 0.91635839 0.92407537 0.91182427 0.89834635\n",
      " 0.91013505 0.91559381 0.91865223 0.93355255 0.94006039 0.94498569\n",
      " 0.946466   0.9295411  0.9269551  0.941294   0.93877932 0.93603283\n",
      " 0.93102133 0.92376266 0.93813727 0.91047597 0.89981099 0.91382891\n",
      " 0.92347738 0.91809133 0.91939321 0.91365056 0.92390539 0.93164553\n",
      " 0.92044552 0.91129638 0.88864659 0.88980583 0.88994856 0.89240968\n",
      " 0.88397401 0.86735224 0.84518402 0.85192542 0.82916861 0.82661831\n",
      " 0.84532666 0.84238397 0.85797129 0.86114588 0.86480195 0.85533182\n",
      " 0.83824634 0.84443494 0.84712796 0.84281198 0.85638404 0.87154334\n",
      " 0.88675612 0.83000171 0.73223412 0.64304537 0.58700174 0.563797\n",
      " 0.55810499 0.55432558 0.54409558 0.5264312 ]\n"
     ]
    },
    {
     "name": "stdout",
     "output_type": "stream",
     "text": [
      "9 day output [[0.5047144]]\n",
      "10 day input [0.96244667 0.94418557 0.93181012 0.92050142 0.90759241 0.91826097\n",
      " 0.90156466 0.91616289 0.8882468  0.87379085 0.88627307 0.88364144\n",
      " 0.8961059  0.91475808 0.92027022 0.85378724 0.85556538 0.86251769\n",
      " 0.85490747 0.84646152 0.84763504 0.85919262 0.8579658  0.84270975\n",
      " 0.84967982 0.85133352 0.85860595 0.86388688 0.88732215 0.88138331\n",
      " 0.88735777 0.85794795 0.85833921 0.85752125 0.87099925 0.8896159\n",
      " 0.91287335 0.91635839 0.92407537 0.91182427 0.89834635 0.91013505\n",
      " 0.91559381 0.91865223 0.93355255 0.94006039 0.94498569 0.946466\n",
      " 0.9295411  0.9269551  0.941294   0.93877932 0.93603283 0.93102133\n",
      " 0.92376266 0.93813727 0.91047597 0.89981099 0.91382891 0.92347738\n",
      " 0.91809133 0.91939321 0.91365056 0.92390539 0.93164553 0.92044552\n",
      " 0.91129638 0.88864659 0.88980583 0.88994856 0.89240968 0.88397401\n",
      " 0.86735224 0.84518402 0.85192542 0.82916861 0.82661831 0.84532666\n",
      " 0.84238397 0.85797129 0.86114588 0.86480195 0.85533182 0.83824634\n",
      " 0.84443494 0.84712796 0.84281198 0.85638404 0.87154334 0.88675612\n",
      " 0.83000171 0.73223412 0.64304537 0.58700174 0.563797   0.55810499\n",
      " 0.55432558 0.54409558 0.5264312  0.50471443]\n",
      "10 day output [[0.48338982]]\n",
      "11 day input [0.94418557 0.93181012 0.92050142 0.90759241 0.91826097 0.90156466\n",
      " 0.91616289 0.8882468  0.87379085 0.88627307 0.88364144 0.8961059\n",
      " 0.91475808 0.92027022 0.85378724 0.85556538 0.86251769 0.85490747\n",
      " 0.84646152 0.84763504 0.85919262 0.8579658  0.84270975 0.84967982\n",
      " 0.85133352 0.85860595 0.86388688 0.88732215 0.88138331 0.88735777\n",
      " 0.85794795 0.85833921 0.85752125 0.87099925 0.8896159  0.91287335\n",
      " 0.91635839 0.92407537 0.91182427 0.89834635 0.91013505 0.91559381\n",
      " 0.91865223 0.93355255 0.94006039 0.94498569 0.946466   0.9295411\n",
      " 0.9269551  0.941294   0.93877932 0.93603283 0.93102133 0.92376266\n",
      " 0.93813727 0.91047597 0.89981099 0.91382891 0.92347738 0.91809133\n",
      " 0.91939321 0.91365056 0.92390539 0.93164553 0.92044552 0.91129638\n",
      " 0.88864659 0.88980583 0.88994856 0.89240968 0.88397401 0.86735224\n",
      " 0.84518402 0.85192542 0.82916861 0.82661831 0.84532666 0.84238397\n",
      " 0.85797129 0.86114588 0.86480195 0.85533182 0.83824634 0.84443494\n",
      " 0.84712796 0.84281198 0.85638404 0.87154334 0.88675612 0.83000171\n",
      " 0.73223412 0.64304537 0.58700174 0.563797   0.55810499 0.55432558\n",
      " 0.54409558 0.5264312  0.50471443 0.48338982]\n",
      "11 day output [[0.46567118]]\n",
      "12 day input [0.93181012 0.92050142 0.90759241 0.91826097 0.90156466 0.91616289\n",
      " 0.8882468  0.87379085 0.88627307 0.88364144 0.8961059  0.91475808\n",
      " 0.92027022 0.85378724 0.85556538 0.86251769 0.85490747 0.84646152\n",
      " 0.84763504 0.85919262 0.8579658  0.84270975 0.84967982 0.85133352\n",
      " 0.85860595 0.86388688 0.88732215 0.88138331 0.88735777 0.85794795\n",
      " 0.85833921 0.85752125 0.87099925 0.8896159  0.91287335 0.91635839\n",
      " 0.92407537 0.91182427 0.89834635 0.91013505 0.91559381 0.91865223\n",
      " 0.93355255 0.94006039 0.94498569 0.946466   0.9295411  0.9269551\n",
      " 0.941294   0.93877932 0.93603283 0.93102133 0.92376266 0.93813727\n",
      " 0.91047597 0.89981099 0.91382891 0.92347738 0.91809133 0.91939321\n",
      " 0.91365056 0.92390539 0.93164553 0.92044552 0.91129638 0.88864659\n",
      " 0.88980583 0.88994856 0.89240968 0.88397401 0.86735224 0.84518402\n",
      " 0.85192542 0.82916861 0.82661831 0.84532666 0.84238397 0.85797129\n",
      " 0.86114588 0.86480195 0.85533182 0.83824634 0.84443494 0.84712796\n",
      " 0.84281198 0.85638404 0.87154334 0.88675612 0.83000171 0.73223412\n",
      " 0.64304537 0.58700174 0.563797   0.55810499 0.55432558 0.54409558\n",
      " 0.5264312  0.50471443 0.48338982 0.46567118]\n",
      "12 day output [[0.45269874]]\n",
      "13 day input [0.92050142 0.90759241 0.91826097 0.90156466 0.91616289 0.8882468\n",
      " 0.87379085 0.88627307 0.88364144 0.8961059  0.91475808 0.92027022\n",
      " 0.85378724 0.85556538 0.86251769 0.85490747 0.84646152 0.84763504\n",
      " 0.85919262 0.8579658  0.84270975 0.84967982 0.85133352 0.85860595\n",
      " 0.86388688 0.88732215 0.88138331 0.88735777 0.85794795 0.85833921\n",
      " 0.85752125 0.87099925 0.8896159  0.91287335 0.91635839 0.92407537\n",
      " 0.91182427 0.89834635 0.91013505 0.91559381 0.91865223 0.93355255\n",
      " 0.94006039 0.94498569 0.946466   0.9295411  0.9269551  0.941294\n",
      " 0.93877932 0.93603283 0.93102133 0.92376266 0.93813727 0.91047597\n",
      " 0.89981099 0.91382891 0.92347738 0.91809133 0.91939321 0.91365056\n",
      " 0.92390539 0.93164553 0.92044552 0.91129638 0.88864659 0.88980583\n",
      " 0.88994856 0.89240968 0.88397401 0.86735224 0.84518402 0.85192542\n",
      " 0.82916861 0.82661831 0.84532666 0.84238397 0.85797129 0.86114588\n",
      " 0.86480195 0.85533182 0.83824634 0.84443494 0.84712796 0.84281198\n",
      " 0.85638404 0.87154334 0.88675612 0.83000171 0.73223412 0.64304537\n",
      " 0.58700174 0.563797   0.55810499 0.55432558 0.54409558 0.5264312\n",
      " 0.50471443 0.48338982 0.46567118 0.45269874]\n",
      "13 day output [[0.4439146]]\n",
      "14 day input [0.90759241 0.91826097 0.90156466 0.91616289 0.8882468  0.87379085\n",
      " 0.88627307 0.88364144 0.8961059  0.91475808 0.92027022 0.85378724\n",
      " 0.85556538 0.86251769 0.85490747 0.84646152 0.84763504 0.85919262\n",
      " 0.8579658  0.84270975 0.84967982 0.85133352 0.85860595 0.86388688\n",
      " 0.88732215 0.88138331 0.88735777 0.85794795 0.85833921 0.85752125\n",
      " 0.87099925 0.8896159  0.91287335 0.91635839 0.92407537 0.91182427\n",
      " 0.89834635 0.91013505 0.91559381 0.91865223 0.93355255 0.94006039\n",
      " 0.94498569 0.946466   0.9295411  0.9269551  0.941294   0.93877932\n",
      " 0.93603283 0.93102133 0.92376266 0.93813727 0.91047597 0.89981099\n",
      " 0.91382891 0.92347738 0.91809133 0.91939321 0.91365056 0.92390539\n",
      " 0.93164553 0.92044552 0.91129638 0.88864659 0.88980583 0.88994856\n",
      " 0.89240968 0.88397401 0.86735224 0.84518402 0.85192542 0.82916861\n",
      " 0.82661831 0.84532666 0.84238397 0.85797129 0.86114588 0.86480195\n",
      " 0.85533182 0.83824634 0.84443494 0.84712796 0.84281198 0.85638404\n",
      " 0.87154334 0.88675612 0.83000171 0.73223412 0.64304537 0.58700174\n",
      " 0.563797   0.55810499 0.55432558 0.54409558 0.5264312  0.50471443\n",
      " 0.48338982 0.46567118 0.45269874 0.44391459]\n",
      "14 day output [[0.43797076]]\n",
      "15 day input [0.91826097 0.90156466 0.91616289 0.8882468  0.87379085 0.88627307\n",
      " 0.88364144 0.8961059  0.91475808 0.92027022 0.85378724 0.85556538\n",
      " 0.86251769 0.85490747 0.84646152 0.84763504 0.85919262 0.8579658\n",
      " 0.84270975 0.84967982 0.85133352 0.85860595 0.86388688 0.88732215\n",
      " 0.88138331 0.88735777 0.85794795 0.85833921 0.85752125 0.87099925\n",
      " 0.8896159  0.91287335 0.91635839 0.92407537 0.91182427 0.89834635\n",
      " 0.91013505 0.91559381 0.91865223 0.93355255 0.94006039 0.94498569\n",
      " 0.946466   0.9295411  0.9269551  0.941294   0.93877932 0.93603283\n",
      " 0.93102133 0.92376266 0.93813727 0.91047597 0.89981099 0.91382891\n",
      " 0.92347738 0.91809133 0.91939321 0.91365056 0.92390539 0.93164553\n",
      " 0.92044552 0.91129638 0.88864659 0.88980583 0.88994856 0.89240968\n",
      " 0.88397401 0.86735224 0.84518402 0.85192542 0.82916861 0.82661831\n",
      " 0.84532666 0.84238397 0.85797129 0.86114588 0.86480195 0.85533182\n",
      " 0.83824634 0.84443494 0.84712796 0.84281198 0.85638404 0.87154334\n",
      " 0.88675612 0.83000171 0.73223412 0.64304537 0.58700174 0.563797\n",
      " 0.55810499 0.55432558 0.54409558 0.5264312  0.50471443 0.48338982\n",
      " 0.46567118 0.45269874 0.44391459 0.43797076]\n",
      "15 day output [[0.4335362]]\n",
      "16 day input [0.90156466 0.91616289 0.8882468  0.87379085 0.88627307 0.88364144\n",
      " 0.8961059  0.91475808 0.92027022 0.85378724 0.85556538 0.86251769\n",
      " 0.85490747 0.84646152 0.84763504 0.85919262 0.8579658  0.84270975\n",
      " 0.84967982 0.85133352 0.85860595 0.86388688 0.88732215 0.88138331\n",
      " 0.88735777 0.85794795 0.85833921 0.85752125 0.87099925 0.8896159\n",
      " 0.91287335 0.91635839 0.92407537 0.91182427 0.89834635 0.91013505\n",
      " 0.91559381 0.91865223 0.93355255 0.94006039 0.94498569 0.946466\n",
      " 0.9295411  0.9269551  0.941294   0.93877932 0.93603283 0.93102133\n",
      " 0.92376266 0.93813727 0.91047597 0.89981099 0.91382891 0.92347738\n",
      " 0.91809133 0.91939321 0.91365056 0.92390539 0.93164553 0.92044552\n",
      " 0.91129638 0.88864659 0.88980583 0.88994856 0.89240968 0.88397401\n",
      " 0.86735224 0.84518402 0.85192542 0.82916861 0.82661831 0.84532666\n",
      " 0.84238397 0.85797129 0.86114588 0.86480195 0.85533182 0.83824634\n",
      " 0.84443494 0.84712796 0.84281198 0.85638404 0.87154334 0.88675612\n",
      " 0.83000171 0.73223412 0.64304537 0.58700174 0.563797   0.55810499\n",
      " 0.55432558 0.54409558 0.5264312  0.50471443 0.48338982 0.46567118\n",
      " 0.45269874 0.44391459 0.43797076 0.4335362 ]\n",
      "16 day output [[0.4297206]]\n",
      "17 day input [0.91616289 0.8882468  0.87379085 0.88627307 0.88364144 0.8961059\n",
      " 0.91475808 0.92027022 0.85378724 0.85556538 0.86251769 0.85490747\n",
      " 0.84646152 0.84763504 0.85919262 0.8579658  0.84270975 0.84967982\n",
      " 0.85133352 0.85860595 0.86388688 0.88732215 0.88138331 0.88735777\n",
      " 0.85794795 0.85833921 0.85752125 0.87099925 0.8896159  0.91287335\n",
      " 0.91635839 0.92407537 0.91182427 0.89834635 0.91013505 0.91559381\n",
      " 0.91865223 0.93355255 0.94006039 0.94498569 0.946466   0.9295411\n",
      " 0.9269551  0.941294   0.93877932 0.93603283 0.93102133 0.92376266\n",
      " 0.93813727 0.91047597 0.89981099 0.91382891 0.92347738 0.91809133\n",
      " 0.91939321 0.91365056 0.92390539 0.93164553 0.92044552 0.91129638\n",
      " 0.88864659 0.88980583 0.88994856 0.89240968 0.88397401 0.86735224\n",
      " 0.84518402 0.85192542 0.82916861 0.82661831 0.84532666 0.84238397\n",
      " 0.85797129 0.86114588 0.86480195 0.85533182 0.83824634 0.84443494\n",
      " 0.84712796 0.84281198 0.85638404 0.87154334 0.88675612 0.83000171\n",
      " 0.73223412 0.64304537 0.58700174 0.563797   0.55810499 0.55432558\n",
      " 0.54409558 0.5264312  0.50471443 0.48338982 0.46567118 0.45269874\n",
      " 0.44391459 0.43797076 0.4335362  0.42972061]\n"
     ]
    },
    {
     "name": "stdout",
     "output_type": "stream",
     "text": [
      "17 day output [[0.42614096]]\n",
      "18 day input [0.8882468  0.87379085 0.88627307 0.88364144 0.8961059  0.91475808\n",
      " 0.92027022 0.85378724 0.85556538 0.86251769 0.85490747 0.84646152\n",
      " 0.84763504 0.85919262 0.8579658  0.84270975 0.84967982 0.85133352\n",
      " 0.85860595 0.86388688 0.88732215 0.88138331 0.88735777 0.85794795\n",
      " 0.85833921 0.85752125 0.87099925 0.8896159  0.91287335 0.91635839\n",
      " 0.92407537 0.91182427 0.89834635 0.91013505 0.91559381 0.91865223\n",
      " 0.93355255 0.94006039 0.94498569 0.946466   0.9295411  0.9269551\n",
      " 0.941294   0.93877932 0.93603283 0.93102133 0.92376266 0.93813727\n",
      " 0.91047597 0.89981099 0.91382891 0.92347738 0.91809133 0.91939321\n",
      " 0.91365056 0.92390539 0.93164553 0.92044552 0.91129638 0.88864659\n",
      " 0.88980583 0.88994856 0.89240968 0.88397401 0.86735224 0.84518402\n",
      " 0.85192542 0.82916861 0.82661831 0.84532666 0.84238397 0.85797129\n",
      " 0.86114588 0.86480195 0.85533182 0.83824634 0.84443494 0.84712796\n",
      " 0.84281198 0.85638404 0.87154334 0.88675612 0.83000171 0.73223412\n",
      " 0.64304537 0.58700174 0.563797   0.55810499 0.55432558 0.54409558\n",
      " 0.5264312  0.50471443 0.48338982 0.46567118 0.45269874 0.44391459\n",
      " 0.43797076 0.4335362  0.42972061 0.42614096]\n",
      "18 day output [[0.42277852]]\n",
      "19 day input [0.87379085 0.88627307 0.88364144 0.8961059  0.91475808 0.92027022\n",
      " 0.85378724 0.85556538 0.86251769 0.85490747 0.84646152 0.84763504\n",
      " 0.85919262 0.8579658  0.84270975 0.84967982 0.85133352 0.85860595\n",
      " 0.86388688 0.88732215 0.88138331 0.88735777 0.85794795 0.85833921\n",
      " 0.85752125 0.87099925 0.8896159  0.91287335 0.91635839 0.92407537\n",
      " 0.91182427 0.89834635 0.91013505 0.91559381 0.91865223 0.93355255\n",
      " 0.94006039 0.94498569 0.946466   0.9295411  0.9269551  0.941294\n",
      " 0.93877932 0.93603283 0.93102133 0.92376266 0.93813727 0.91047597\n",
      " 0.89981099 0.91382891 0.92347738 0.91809133 0.91939321 0.91365056\n",
      " 0.92390539 0.93164553 0.92044552 0.91129638 0.88864659 0.88980583\n",
      " 0.88994856 0.89240968 0.88397401 0.86735224 0.84518402 0.85192542\n",
      " 0.82916861 0.82661831 0.84532666 0.84238397 0.85797129 0.86114588\n",
      " 0.86480195 0.85533182 0.83824634 0.84443494 0.84712796 0.84281198\n",
      " 0.85638404 0.87154334 0.88675612 0.83000171 0.73223412 0.64304537\n",
      " 0.58700174 0.563797   0.55810499 0.55432558 0.54409558 0.5264312\n",
      " 0.50471443 0.48338982 0.46567118 0.45269874 0.44391459 0.43797076\n",
      " 0.4335362  0.42972061 0.42614096 0.42277852]\n",
      "19 day output [[0.41977736]]\n",
      "20 day input [0.88627307 0.88364144 0.8961059  0.91475808 0.92027022 0.85378724\n",
      " 0.85556538 0.86251769 0.85490747 0.84646152 0.84763504 0.85919262\n",
      " 0.8579658  0.84270975 0.84967982 0.85133352 0.85860595 0.86388688\n",
      " 0.88732215 0.88138331 0.88735777 0.85794795 0.85833921 0.85752125\n",
      " 0.87099925 0.8896159  0.91287335 0.91635839 0.92407537 0.91182427\n",
      " 0.89834635 0.91013505 0.91559381 0.91865223 0.93355255 0.94006039\n",
      " 0.94498569 0.946466   0.9295411  0.9269551  0.941294   0.93877932\n",
      " 0.93603283 0.93102133 0.92376266 0.93813727 0.91047597 0.89981099\n",
      " 0.91382891 0.92347738 0.91809133 0.91939321 0.91365056 0.92390539\n",
      " 0.93164553 0.92044552 0.91129638 0.88864659 0.88980583 0.88994856\n",
      " 0.89240968 0.88397401 0.86735224 0.84518402 0.85192542 0.82916861\n",
      " 0.82661831 0.84532666 0.84238397 0.85797129 0.86114588 0.86480195\n",
      " 0.85533182 0.83824634 0.84443494 0.84712796 0.84281198 0.85638404\n",
      " 0.87154334 0.88675612 0.83000171 0.73223412 0.64304537 0.58700174\n",
      " 0.563797   0.55810499 0.55432558 0.54409558 0.5264312  0.50471443\n",
      " 0.48338982 0.46567118 0.45269874 0.44391459 0.43797076 0.4335362\n",
      " 0.42972061 0.42614096 0.42277852 0.41977736]\n",
      "20 day output [[0.4172804]]\n",
      "21 day input [0.88364144 0.8961059  0.91475808 0.92027022 0.85378724 0.85556538\n",
      " 0.86251769 0.85490747 0.84646152 0.84763504 0.85919262 0.8579658\n",
      " 0.84270975 0.84967982 0.85133352 0.85860595 0.86388688 0.88732215\n",
      " 0.88138331 0.88735777 0.85794795 0.85833921 0.85752125 0.87099925\n",
      " 0.8896159  0.91287335 0.91635839 0.92407537 0.91182427 0.89834635\n",
      " 0.91013505 0.91559381 0.91865223 0.93355255 0.94006039 0.94498569\n",
      " 0.946466   0.9295411  0.9269551  0.941294   0.93877932 0.93603283\n",
      " 0.93102133 0.92376266 0.93813727 0.91047597 0.89981099 0.91382891\n",
      " 0.92347738 0.91809133 0.91939321 0.91365056 0.92390539 0.93164553\n",
      " 0.92044552 0.91129638 0.88864659 0.88980583 0.88994856 0.89240968\n",
      " 0.88397401 0.86735224 0.84518402 0.85192542 0.82916861 0.82661831\n",
      " 0.84532666 0.84238397 0.85797129 0.86114588 0.86480195 0.85533182\n",
      " 0.83824634 0.84443494 0.84712796 0.84281198 0.85638404 0.87154334\n",
      " 0.88675612 0.83000171 0.73223412 0.64304537 0.58700174 0.563797\n",
      " 0.55810499 0.55432558 0.54409558 0.5264312  0.50471443 0.48338982\n",
      " 0.46567118 0.45269874 0.44391459 0.43797076 0.4335362  0.42972061\n",
      " 0.42614096 0.42277852 0.41977736 0.41728041]\n",
      "21 day output [[0.41534337]]\n",
      "22 day input [0.8961059  0.91475808 0.92027022 0.85378724 0.85556538 0.86251769\n",
      " 0.85490747 0.84646152 0.84763504 0.85919262 0.8579658  0.84270975\n",
      " 0.84967982 0.85133352 0.85860595 0.86388688 0.88732215 0.88138331\n",
      " 0.88735777 0.85794795 0.85833921 0.85752125 0.87099925 0.8896159\n",
      " 0.91287335 0.91635839 0.92407537 0.91182427 0.89834635 0.91013505\n",
      " 0.91559381 0.91865223 0.93355255 0.94006039 0.94498569 0.946466\n",
      " 0.9295411  0.9269551  0.941294   0.93877932 0.93603283 0.93102133\n",
      " 0.92376266 0.93813727 0.91047597 0.89981099 0.91382891 0.92347738\n",
      " 0.91809133 0.91939321 0.91365056 0.92390539 0.93164553 0.92044552\n",
      " 0.91129638 0.88864659 0.88980583 0.88994856 0.89240968 0.88397401\n",
      " 0.86735224 0.84518402 0.85192542 0.82916861 0.82661831 0.84532666\n",
      " 0.84238397 0.85797129 0.86114588 0.86480195 0.85533182 0.83824634\n",
      " 0.84443494 0.84712796 0.84281198 0.85638404 0.87154334 0.88675612\n",
      " 0.83000171 0.73223412 0.64304537 0.58700174 0.563797   0.55810499\n",
      " 0.55432558 0.54409558 0.5264312  0.50471443 0.48338982 0.46567118\n",
      " 0.45269874 0.44391459 0.43797076 0.4335362  0.42972061 0.42614096\n",
      " 0.42277852 0.41977736 0.41728041 0.41534337]\n",
      "22 day output [[0.41391996]]\n",
      "23 day input [0.91475808 0.92027022 0.85378724 0.85556538 0.86251769 0.85490747\n",
      " 0.84646152 0.84763504 0.85919262 0.8579658  0.84270975 0.84967982\n",
      " 0.85133352 0.85860595 0.86388688 0.88732215 0.88138331 0.88735777\n",
      " 0.85794795 0.85833921 0.85752125 0.87099925 0.8896159  0.91287335\n",
      " 0.91635839 0.92407537 0.91182427 0.89834635 0.91013505 0.91559381\n",
      " 0.91865223 0.93355255 0.94006039 0.94498569 0.946466   0.9295411\n",
      " 0.9269551  0.941294   0.93877932 0.93603283 0.93102133 0.92376266\n",
      " 0.93813727 0.91047597 0.89981099 0.91382891 0.92347738 0.91809133\n",
      " 0.91939321 0.91365056 0.92390539 0.93164553 0.92044552 0.91129638\n",
      " 0.88864659 0.88980583 0.88994856 0.89240968 0.88397401 0.86735224\n",
      " 0.84518402 0.85192542 0.82916861 0.82661831 0.84532666 0.84238397\n",
      " 0.85797129 0.86114588 0.86480195 0.85533182 0.83824634 0.84443494\n",
      " 0.84712796 0.84281198 0.85638404 0.87154334 0.88675612 0.83000171\n",
      " 0.73223412 0.64304537 0.58700174 0.563797   0.55810499 0.55432558\n",
      " 0.54409558 0.5264312  0.50471443 0.48338982 0.46567118 0.45269874\n",
      " 0.44391459 0.43797076 0.4335362  0.42972061 0.42614096 0.42277852\n",
      " 0.41977736 0.41728041 0.41534337 0.41391996]\n",
      "23 day output [[0.41289362]]\n",
      "24 day input [0.92027022 0.85378724 0.85556538 0.86251769 0.85490747 0.84646152\n",
      " 0.84763504 0.85919262 0.8579658  0.84270975 0.84967982 0.85133352\n",
      " 0.85860595 0.86388688 0.88732215 0.88138331 0.88735777 0.85794795\n",
      " 0.85833921 0.85752125 0.87099925 0.8896159  0.91287335 0.91635839\n",
      " 0.92407537 0.91182427 0.89834635 0.91013505 0.91559381 0.91865223\n",
      " 0.93355255 0.94006039 0.94498569 0.946466   0.9295411  0.9269551\n",
      " 0.941294   0.93877932 0.93603283 0.93102133 0.92376266 0.93813727\n",
      " 0.91047597 0.89981099 0.91382891 0.92347738 0.91809133 0.91939321\n",
      " 0.91365056 0.92390539 0.93164553 0.92044552 0.91129638 0.88864659\n",
      " 0.88980583 0.88994856 0.89240968 0.88397401 0.86735224 0.84518402\n",
      " 0.85192542 0.82916861 0.82661831 0.84532666 0.84238397 0.85797129\n",
      " 0.86114588 0.86480195 0.85533182 0.83824634 0.84443494 0.84712796\n",
      " 0.84281198 0.85638404 0.87154334 0.88675612 0.83000171 0.73223412\n",
      " 0.64304537 0.58700174 0.563797   0.55810499 0.55432558 0.54409558\n",
      " 0.5264312  0.50471443 0.48338982 0.46567118 0.45269874 0.44391459\n",
      " 0.43797076 0.4335362  0.42972061 0.42614096 0.42277852 0.41977736\n",
      " 0.41728041 0.41534337 0.41391996 0.41289362]\n",
      "24 day output [[0.41212335]]\n",
      "25 day input [0.85378724 0.85556538 0.86251769 0.85490747 0.84646152 0.84763504\n",
      " 0.85919262 0.8579658  0.84270975 0.84967982 0.85133352 0.85860595\n",
      " 0.86388688 0.88732215 0.88138331 0.88735777 0.85794795 0.85833921\n",
      " 0.85752125 0.87099925 0.8896159  0.91287335 0.91635839 0.92407537\n",
      " 0.91182427 0.89834635 0.91013505 0.91559381 0.91865223 0.93355255\n",
      " 0.94006039 0.94498569 0.946466   0.9295411  0.9269551  0.941294\n",
      " 0.93877932 0.93603283 0.93102133 0.92376266 0.93813727 0.91047597\n",
      " 0.89981099 0.91382891 0.92347738 0.91809133 0.91939321 0.91365056\n",
      " 0.92390539 0.93164553 0.92044552 0.91129638 0.88864659 0.88980583\n",
      " 0.88994856 0.89240968 0.88397401 0.86735224 0.84518402 0.85192542\n",
      " 0.82916861 0.82661831 0.84532666 0.84238397 0.85797129 0.86114588\n",
      " 0.86480195 0.85533182 0.83824634 0.84443494 0.84712796 0.84281198\n",
      " 0.85638404 0.87154334 0.88675612 0.83000171 0.73223412 0.64304537\n",
      " 0.58700174 0.563797   0.55810499 0.55432558 0.54409558 0.5264312\n",
      " 0.50471443 0.48338982 0.46567118 0.45269874 0.44391459 0.43797076\n",
      " 0.4335362  0.42972061 0.42614096 0.42277852 0.41977736 0.41728041\n",
      " 0.41534337 0.41391996 0.41289362 0.41212335]\n"
     ]
    },
    {
     "name": "stdout",
     "output_type": "stream",
     "text": [
      "25 day output [[0.41148195]]\n",
      "26 day input [0.85556538 0.86251769 0.85490747 0.84646152 0.84763504 0.85919262\n",
      " 0.8579658  0.84270975 0.84967982 0.85133352 0.85860595 0.86388688\n",
      " 0.88732215 0.88138331 0.88735777 0.85794795 0.85833921 0.85752125\n",
      " 0.87099925 0.8896159  0.91287335 0.91635839 0.92407537 0.91182427\n",
      " 0.89834635 0.91013505 0.91559381 0.91865223 0.93355255 0.94006039\n",
      " 0.94498569 0.946466   0.9295411  0.9269551  0.941294   0.93877932\n",
      " 0.93603283 0.93102133 0.92376266 0.93813727 0.91047597 0.89981099\n",
      " 0.91382891 0.92347738 0.91809133 0.91939321 0.91365056 0.92390539\n",
      " 0.93164553 0.92044552 0.91129638 0.88864659 0.88980583 0.88994856\n",
      " 0.89240968 0.88397401 0.86735224 0.84518402 0.85192542 0.82916861\n",
      " 0.82661831 0.84532666 0.84238397 0.85797129 0.86114588 0.86480195\n",
      " 0.85533182 0.83824634 0.84443494 0.84712796 0.84281198 0.85638404\n",
      " 0.87154334 0.88675612 0.83000171 0.73223412 0.64304537 0.58700174\n",
      " 0.563797   0.55810499 0.55432558 0.54409558 0.5264312  0.50471443\n",
      " 0.48338982 0.46567118 0.45269874 0.44391459 0.43797076 0.4335362\n",
      " 0.42972061 0.42614096 0.42277852 0.41977736 0.41728041 0.41534337\n",
      " 0.41391996 0.41289362 0.41212335 0.41148195]\n",
      "26 day output [[0.41087708]]\n",
      "27 day input [0.86251769 0.85490747 0.84646152 0.84763504 0.85919262 0.8579658\n",
      " 0.84270975 0.84967982 0.85133352 0.85860595 0.86388688 0.88732215\n",
      " 0.88138331 0.88735777 0.85794795 0.85833921 0.85752125 0.87099925\n",
      " 0.8896159  0.91287335 0.91635839 0.92407537 0.91182427 0.89834635\n",
      " 0.91013505 0.91559381 0.91865223 0.93355255 0.94006039 0.94498569\n",
      " 0.946466   0.9295411  0.9269551  0.941294   0.93877932 0.93603283\n",
      " 0.93102133 0.92376266 0.93813727 0.91047597 0.89981099 0.91382891\n",
      " 0.92347738 0.91809133 0.91939321 0.91365056 0.92390539 0.93164553\n",
      " 0.92044552 0.91129638 0.88864659 0.88980583 0.88994856 0.89240968\n",
      " 0.88397401 0.86735224 0.84518402 0.85192542 0.82916861 0.82661831\n",
      " 0.84532666 0.84238397 0.85797129 0.86114588 0.86480195 0.85533182\n",
      " 0.83824634 0.84443494 0.84712796 0.84281198 0.85638404 0.87154334\n",
      " 0.88675612 0.83000171 0.73223412 0.64304537 0.58700174 0.563797\n",
      " 0.55810499 0.55432558 0.54409558 0.5264312  0.50471443 0.48338982\n",
      " 0.46567118 0.45269874 0.44391459 0.43797076 0.4335362  0.42972061\n",
      " 0.42614096 0.42277852 0.41977736 0.41728041 0.41534337 0.41391996\n",
      " 0.41289362 0.41212335 0.41148195 0.41087708]\n",
      "27 day output [[0.41025487]]\n",
      "28 day input [0.85490747 0.84646152 0.84763504 0.85919262 0.8579658  0.84270975\n",
      " 0.84967982 0.85133352 0.85860595 0.86388688 0.88732215 0.88138331\n",
      " 0.88735777 0.85794795 0.85833921 0.85752125 0.87099925 0.8896159\n",
      " 0.91287335 0.91635839 0.92407537 0.91182427 0.89834635 0.91013505\n",
      " 0.91559381 0.91865223 0.93355255 0.94006039 0.94498569 0.946466\n",
      " 0.9295411  0.9269551  0.941294   0.93877932 0.93603283 0.93102133\n",
      " 0.92376266 0.93813727 0.91047597 0.89981099 0.91382891 0.92347738\n",
      " 0.91809133 0.91939321 0.91365056 0.92390539 0.93164553 0.92044552\n",
      " 0.91129638 0.88864659 0.88980583 0.88994856 0.89240968 0.88397401\n",
      " 0.86735224 0.84518402 0.85192542 0.82916861 0.82661831 0.84532666\n",
      " 0.84238397 0.85797129 0.86114588 0.86480195 0.85533182 0.83824634\n",
      " 0.84443494 0.84712796 0.84281198 0.85638404 0.87154334 0.88675612\n",
      " 0.83000171 0.73223412 0.64304537 0.58700174 0.563797   0.55810499\n",
      " 0.55432558 0.54409558 0.5264312  0.50471443 0.48338982 0.46567118\n",
      " 0.45269874 0.44391459 0.43797076 0.4335362  0.42972061 0.42614096\n",
      " 0.42277852 0.41977736 0.41728041 0.41534337 0.41391996 0.41289362\n",
      " 0.41212335 0.41148195 0.41087708 0.41025487]\n",
      "28 day output [[0.40959227]]\n",
      "29 day input [0.84646152 0.84763504 0.85919262 0.8579658  0.84270975 0.84967982\n",
      " 0.85133352 0.85860595 0.86388688 0.88732215 0.88138331 0.88735777\n",
      " 0.85794795 0.85833921 0.85752125 0.87099925 0.8896159  0.91287335\n",
      " 0.91635839 0.92407537 0.91182427 0.89834635 0.91013505 0.91559381\n",
      " 0.91865223 0.93355255 0.94006039 0.94498569 0.946466   0.9295411\n",
      " 0.9269551  0.941294   0.93877932 0.93603283 0.93102133 0.92376266\n",
      " 0.93813727 0.91047597 0.89981099 0.91382891 0.92347738 0.91809133\n",
      " 0.91939321 0.91365056 0.92390539 0.93164553 0.92044552 0.91129638\n",
      " 0.88864659 0.88980583 0.88994856 0.89240968 0.88397401 0.86735224\n",
      " 0.84518402 0.85192542 0.82916861 0.82661831 0.84532666 0.84238397\n",
      " 0.85797129 0.86114588 0.86480195 0.85533182 0.83824634 0.84443494\n",
      " 0.84712796 0.84281198 0.85638404 0.87154334 0.88675612 0.83000171\n",
      " 0.73223412 0.64304537 0.58700174 0.563797   0.55810499 0.55432558\n",
      " 0.54409558 0.5264312  0.50471443 0.48338982 0.46567118 0.45269874\n",
      " 0.44391459 0.43797076 0.4335362  0.42972061 0.42614096 0.42277852\n",
      " 0.41977736 0.41728041 0.41534337 0.41391996 0.41289362 0.41212335\n",
      " 0.41148195 0.41087708 0.41025487 0.40959227]\n",
      "29 day output [[0.40888584]]\n",
      "[[0.830001711845398], [0.7322341203689575], [0.6430453658103943], [0.5870017409324646], [0.5637969970703125], [0.5581049919128418], [0.5543255805969238], [0.5440955758094788], [0.5264312028884888], [0.5047144293785095], [0.48338982462882996], [0.465671181678772], [0.4526987373828888], [0.44391459226608276], [0.43797075748443604], [0.43353620171546936], [0.42972061038017273], [0.4261409640312195], [0.42277851700782776], [0.41977736353874207], [0.4172804057598114], [0.41534337401390076], [0.41391995549201965], [0.4128936231136322], [0.41212335228919983], [0.41148194670677185], [0.4108770787715912], [0.4102548658847809], [0.40959227085113525], [0.4088858366012573]]\n"
     ]
    }
   ],
   "source": [
    "\n",
    "from numpy import array\n",
    "\n",
    "lst_output=[]\n",
    "n_steps=100\n",
    "i=0\n",
    "while(i<30):\n",
    "    \n",
    "    if(len(temp_input)>100):\n",
    "        #print(temp_input)\n",
    "        x_input=np.array(temp_input[1:])\n",
    "        print(\"{} day input {}\".format(i,x_input))\n",
    "        x_input=x_input.reshape(1,-1)\n",
    "        x_input = x_input.reshape((1, n_steps, 1))\n",
    "        #print(x_input)\n",
    "        yhat = model.predict(x_input, verbose=0)\n",
    "        print(\"{} day output {}\".format(i,yhat))\n",
    "        temp_input.extend(yhat[0].tolist())\n",
    "        temp_input=temp_input[1:]\n",
    "        #print(temp_input)\n",
    "        lst_output.extend(yhat.tolist())\n",
    "        i=i+1\n",
    "    else:\n",
    "        x_input = x_input.reshape((1, n_steps,1))\n",
    "        yhat = model.predict(x_input, verbose=0)\n",
    "        print(yhat[0])\n",
    "        temp_input.extend(yhat[0].tolist())\n",
    "        print(len(temp_input))\n",
    "        lst_output.extend(yhat.tolist())\n",
    "        i=i+1\n",
    "    \n",
    "\n",
    "print(lst_output)"
   ]
  },
  {
   "cell_type": "code",
   "execution_count": 128,
   "id": "17a00363",
   "metadata": {},
   "outputs": [],
   "source": [
    "day_new=np.arange(1,101)\n",
    "day_pred=np.arange(101,131)"
   ]
  },
  {
   "cell_type": "code",
   "execution_count": 129,
   "id": "0f612fe3",
   "metadata": {},
   "outputs": [],
   "source": [
    "import matplotlib.pyplot as plt"
   ]
  },
  {
   "cell_type": "code",
   "execution_count": 130,
   "id": "d434fb34",
   "metadata": {},
   "outputs": [],
   "source": [
    "len(df1)\n",
    "b = len(df1)-100 "
   ]
  },
  {
   "cell_type": "markdown",
   "id": "cbe89082",
   "metadata": {},
   "source": [
    "## Predectation "
   ]
  },
  {
   "cell_type": "code",
   "execution_count": 131,
   "id": "ea382678",
   "metadata": {},
   "outputs": [
    {
     "data": {
      "text/plain": [
       "[<matplotlib.lines.Line2D at 0x22a6536ca90>]"
      ]
     },
     "execution_count": 131,
     "metadata": {},
     "output_type": "execute_result"
    },
    {
     "data": {
      "image/png": "[encoded data removed]",
      "text/plain": [
       "<Figure size 432x288 with 1 Axes>"
      ]
     },
     "metadata": {
      "needs_background": "light"
     },
     "output_type": "display_data"
    }
   ],
   "source": [
    "plt.plot(day_new,scaler.inverse_transform(df1[b:]))\n",
    "plt.plot(day_pred,scaler.inverse_transform(lst_output))"
   ]
  },
  {
   "cell_type": "code",
   "execution_count": 132,
   "id": "eddb1b48",
   "metadata": {},
   "outputs": [
    {
     "data": {
      "text/plain": [
       "[<matplotlib.lines.Line2D at 0x22a678dacd0>]"
      ]
     },
     "execution_count": 132,
     "metadata": {},
     "output_type": "execute_result"
    },
    {
     "data": {
      "image/png": "[encoded data removed]",
      "text/plain": [
       "<Figure size 432x288 with 1 Axes>"
      ]
     },
     "metadata": {
      "needs_background": "light"
     },
     "output_type": "display_data"
    }
   ],
   "source": [
    "df3=df1.tolist()\n",
    "df3.extend(lst_output)\n",
    "plt.plot(df3[120:])"
   ]
  },
  {
   "cell_type": "code",
   "execution_count": 133,
   "id": "72d23a88",
   "metadata": {},
   "outputs": [],
   "source": [
    "df3=scaler.inverse_transform(df3).tolist()"
   ]
  },
  {
   "cell_type": "markdown",
   "id": "5c43840b",
   "metadata": {},
   "source": [
    "## Output"
   ]
  },
  {
   "cell_type": "code",
   "execution_count": 134,
   "id": "88606fcc",
   "metadata": {},
   "outputs": [
    {
     "data": {
      "text/plain": [
       "[<matplotlib.lines.Line2D at 0x22a67966880>]"
      ]
     },
     "execution_count": 134,
     "metadata": {},
     "output_type": "execute_result"
    },
    {
     "data": {
      "image/png": "[encoded data removed]",
      "text/plain": [
       "<Figure size 432x288 with 1 Axes>"
      ]
     },
     "metadata": {
      "needs_background": "light"
     },
     "output_type": "display_data"
    }
   ],
   "source": [
    "plt.plot(df3)"
   ]
  },
  {
   "cell_type": "code",
   "execution_count": null,
   "id": "97d6ba62",
   "metadata": {},
   "outputs": [],
   "source": []
  }
 ],
 "metadata": {
  "kernelspec": {
   "display_name": "Python 3 (ipykernel)",
   "language": "python",
   "name": "python3"
  },
  "language_info": {
   "codemirror_mode": {
    "name": "ipython",
    "version": 3
   },
   "file_extension": ".py",
   "mimetype": "text/x-python",
   "name": "python",
   "nbconvert_exporter": "python",
   "pygments_lexer": "ipython3",
   "version": "3.9.12"
  }
 },
 "nbformat": 4,
 "nbformat_minor": 5
}
